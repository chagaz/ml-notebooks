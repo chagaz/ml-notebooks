{
 "cells": [
  {
   "cell_type": "markdown",
   "id": "excessive-protest",
   "metadata": {},
   "source": [
    "# Stage LIESSE – TP 2 – Réseaux de neurones "
   ]
  },
  {
   "cell_type": "markdown",
   "id": "dimensional-affiliate",
   "metadata": {},
   "source": [
    "Le but de ce notebook est de présenter les réseaux de neurones multi-couches à propagation avant, aussi appelés perceptrons multi-couches, ou _MLP_ pour _multi-layer perceptrons_."
   ]
  },
  {
   "cell_type": "markdown",
   "id": "peripheral-strip",
   "metadata": {},
   "source": [
    "## Chargement des librairies"
   ]
  },
  {
   "cell_type": "code",
   "execution_count": null,
   "id": "under-banana",
   "metadata": {},
   "outputs": [],
   "source": [
    "%pylab inline "
   ]
  },
  {
   "cell_type": "code",
   "execution_count": null,
   "id": "quantitative-tomorrow",
   "metadata": {},
   "outputs": [],
   "source": [
    "from IPython.display import set_matplotlib_formats\n",
    "set_matplotlib_formats('svg')"
   ]
  },
  {
   "cell_type": "code",
   "execution_count": null,
   "id": "handy-inspection",
   "metadata": {},
   "outputs": [],
   "source": [
    "import pandas as pd"
   ]
  },
  {
   "cell_type": "code",
   "execution_count": null,
   "id": "equal-claim",
   "metadata": {},
   "outputs": [],
   "source": [
    "import sklearn"
   ]
  },
  {
   "cell_type": "markdown",
   "id": "intimate-pilot",
   "metadata": {},
   "source": [
    "## 1. Réseaux de neurones pour la régression "
   ]
  },
  {
   "cell_type": "markdown",
   "id": "comfortable-permit",
   "metadata": {},
   "source": [
    "Reprenons le Problème 1 défini dans le notebook `0-Donnees.ipynb`. Peut-on améliorer la performance de la régression linéaire en utilisant un modèle non linéaire ?"
   ]
  },
  {
   "cell_type": "markdown",
   "id": "automated-wealth",
   "metadata": {},
   "source": [
    "### Chargement des données"
   ]
  },
  {
   "cell_type": "code",
   "execution_count": null,
   "id": "incorporated-better",
   "metadata": {},
   "outputs": [],
   "source": [
    "penguins = pd.read_csv(\"data/penguins.csv\")"
   ]
  },
  {
   "cell_type": "code",
   "execution_count": null,
   "id": "undefined-letters",
   "metadata": {},
   "outputs": [],
   "source": [
    "X = penguins[[\"bill_length_mm\", \"bill_depth_mm\", \"flipper_length_mm\"]].to_numpy()\n",
    "y_regress = penguins[\"body_mass_g\"]"
   ]
  },
  {
   "cell_type": "markdown",
   "id": "satisfactory-adrian",
   "metadata": {},
   "source": [
    "### Séparation des données en jeu d'entraînement et jeu de test"
   ]
  },
  {
   "cell_type": "code",
   "execution_count": null,
   "id": "affected-identity",
   "metadata": {},
   "outputs": [],
   "source": [
    "from sklearn import model_selection"
   ]
  },
  {
   "cell_type": "code",
   "execution_count": null,
   "id": "stopped-jerusalem",
   "metadata": {},
   "outputs": [],
   "source": [
    "(X_train, X_test, y_train, y_test) = model_selection.train_test_split(X, y_regress, test_size=0.3, random_state=25)"
   ]
  },
  {
   "cell_type": "markdown",
   "id": "limited-straight",
   "metadata": {},
   "source": [
    "### Formalisme"
   ]
  },
  {
   "cell_type": "markdown",
   "id": "composed-mandate",
   "metadata": {},
   "source": [
    "Nous disposons toujours d'un jeu d'entraînement de $n$ observations en $p$ dimensions, représentés par une matrice $X \\in \\mathbb{R}^{nxp}$ (ici, $p=3$), et d'un vecteur d'étiquettes $\\boldsymbol{y} \\in \\mathbb{R}^{n}$. \n",
    "\n",
    "Un réseau de neurones multi-couches permet d'apprendre un modèle différent de celui de la régression linéaire. Là où nous avions précédemment un modèle de la forme \n",
    "$f: \\boldsymbol{x} \\in \\mathbb{R}^p \\mapsto \\beta_0 + \\boldsymbol{\\beta}^\\top \\boldsymbol{x},$\n",
    "avec $\\beta_0 \\in \\mathbb{R}$ et $\\boldsymbol\\beta \\in \\mathbb{R}^p$,\n",
    "la forme du modèle est maintenant donnée par l'architecture du réseau.\n",
    "\n",
    "Si nous utilisons une __couche intermédiaire__ contenant $m$ neurones, le modèle devient \n",
    "$f: \\boldsymbol{x} \\in \\mathbb{R}^p \\mapsto \\beta_0^1 + \\sum_{k=1}^m \\beta_k^1 a \\left( \\beta^0_{0k} + \\boldsymbol{\\beta}_k^{0\\top} \\boldsymbol{x} \\right),$\n",
    "\n",
    "avec :\n",
    " * $a$ une __fonction d'activation__ non-linéaire, par exemple logistique ou ReLU ;\n",
    " * $\\beta_0^1 \\in \\mathbb{R}$ le biais de la couche intermédiaire et $\\boldsymbol\\beta^1 \\in \\mathbb{R}^m$ les coefficients de la couche intermédiaire vers le neurone de sortie ;\n",
    " * pour $k=1, \\dots, m$, $\\beta_0^{0k} \\in \\mathbb{R}$ le biais du $k$-ème neurone de la couche intermédiaire et $\\boldsymbol\\beta_k^0 \\in \\mathbb{R}^p$ les coefficients de la couche d'entrée vers le  $k$-ème neurone de la couche intermédiaire. \n",
    "\n",
    "Il s'agit par contre toujours de __minimiser le risque empirique__, qui est toujours calculé avec l'__erreur quadratique__ $(y, f(\\boldsymbol{x})) \\mapsto \\left(y - f(\\boldsymbol{x}) \\right)^2 $ comme fonction de perte. \n",
    "\n",
    "Attention, ce problème d'optimisation n'est en général pas convexe. On risque d'obtenir un minimum local."
   ]
  },
  {
   "cell_type": "markdown",
   "id": "copyrighted-seeking",
   "metadata": {},
   "source": [
    "### Entraînement d'un réseau de neurones avec scikit-learn"
   ]
  },
  {
   "cell_type": "markdown",
   "id": "pressing-postage",
   "metadata": {},
   "source": [
    "Nous allons utiliser un réseau de neurones avec une seule couche intermédiaire contenant $m=10$ neurones.\n",
    "\n",
    "Là où il s'agissait, pour une régression linéaire, d'apprendre $p+1=4$ paramètres, nous avons maintenant $m \\times (p+1) + (m+1) = 51$ paramètres à apprendre."
   ]
  },
  {
   "cell_type": "markdown",
   "id": "automotive-pakistan",
   "metadata": {},
   "source": [
    "Les réseaux de neurones sont implémentés dans [le module `neural_network`](https://scikit-learn.org/dev/modules/classes.html?highlight=neural_network#module-sklearn.neural_network) de `scikit-learn`. Pour la régression, nous utilisons [la classe `MLPRegressor`](https://scikit-learn.org/dev/modules/generated/sklearn.neural_network.MLPRegressor.html#sklearn.neural_network.MLPRegressor). "
   ]
  },
  {
   "cell_type": "code",
   "execution_count": null,
   "id": "anonymous-guidance",
   "metadata": {},
   "outputs": [],
   "source": [
    "from sklearn import neural_network"
   ]
  },
  {
   "cell_type": "markdown",
   "id": "single-anatomy",
   "metadata": {},
   "source": [
    "Nous suivons exactement les étapes habituelles :"
   ]
  },
  {
   "cell_type": "markdown",
   "id": "parallel-walter",
   "metadata": {},
   "source": [
    "1. Instancions un objet de la classe de modèle qui nous intéresse, ici `MLPRegressor`.\n",
    "\n",
    "Comme le nombre d'observation est faible (seulement quelques centaines), nous utilisons le solveur LBFGS qui, selon la documentation, est plus approprié. Pour faciliter la convergence, nous augmentons aussi le nombre d'itérations en le fixant à 1000. Nous conservons par ailleurs les paramètres par défaut ; en particulier, nous utilisons une fonction d'activation ReLU.\n",
    "\n",
    "ReLU signifie _Rectified Linear Unit_ et retourne simplement la partie postive du nombre qu'on lui passe."
   ]
  },
  {
   "cell_type": "code",
   "execution_count": null,
   "id": "latin-safety",
   "metadata": {},
   "outputs": [],
   "source": [
    "mlpreg = neural_network.MLPRegressor(hidden_layer_sizes=10, solver='lbfgs', max_iter=1000, random_state=47)"
   ]
  },
  {
   "cell_type": "markdown",
   "id": "sound-offering",
   "metadata": {},
   "source": [
    "2. Entraînons cet objet sur les données d'entraînement avec la méthode `fit` :"
   ]
  },
  {
   "cell_type": "code",
   "execution_count": null,
   "id": "supreme-fifteen",
   "metadata": {},
   "outputs": [],
   "source": [
    "mlpreg.fit(X_train, y_train)"
   ]
  },
  {
   "cell_type": "markdown",
   "id": "worthy-endorsement",
   "metadata": {},
   "source": [
    "Il se peut ici que vous receviez un message d'erreur car le solveur ne converge pas. Vous pouvez relancer plusieurs fois l'appel à `fit` (la convergence dépendant de l'initialisation, qui est aléatoire). Si cela ne suffit pas, augmentez le nombre d'itérations en augmentant la valeur du paramètre `max_iter` ou relâchez la tolérance en augmentant la valeur du paramètre `tol`."
   ]
  },
  {
   "cell_type": "markdown",
   "id": "assigned-valuable",
   "metadata": {},
   "source": [
    "3. Enfin, prédisons les étiquettes des données du jeu de test en utilisant la méthode `predict` :"
   ]
  },
  {
   "cell_type": "code",
   "execution_count": null,
   "id": "individual-green",
   "metadata": {},
   "outputs": [],
   "source": [
    "y_test_pred = mlpreg.predict(X_test)"
   ]
  },
  {
   "cell_type": "markdown",
   "id": "liquid-grill",
   "metadata": {},
   "source": [
    "### Performance du modèle"
   ]
  },
  {
   "cell_type": "markdown",
   "id": "generic-morning",
   "metadata": {},
   "source": [
    "On peut maintenant s'intéresser à la qualité du modèle. Commençons par visualiser la corrélation entre les valeurs réelles et les valeurs prédites :"
   ]
  },
  {
   "cell_type": "code",
   "execution_count": null,
   "id": "criminal-superintendent",
   "metadata": {},
   "outputs": [],
   "source": [
    "plt.scatter(y_test, y_test_pred)\n",
    "\n",
    "plt.xlabel(\"Poids réel (g)\")\n",
    "plt.ylabel(\"Poids prédit (g)\")"
   ]
  },
  {
   "cell_type": "code",
   "execution_count": null,
   "id": "varying-beach",
   "metadata": {},
   "outputs": [],
   "source": [
    "from sklearn import metrics"
   ]
  },
  {
   "cell_type": "code",
   "execution_count": null,
   "id": "meaning-password",
   "metadata": {},
   "outputs": [],
   "source": [
    "print(\"La RMSE de notre modèle est %.2f g\" % (metrics.mean_squared_error(y_test, y_test_pred, squared=False)))"
   ]
  },
  {
   "cell_type": "code",
   "execution_count": null,
   "id": "successful-functionality",
   "metadata": {},
   "outputs": [],
   "source": [
    "print(\"Le coefficient de détermination de notre modèle est R2 = %.2f\" % (metrics.r2_score(y_test, y_test_pred)))"
   ]
  },
  {
   "cell_type": "markdown",
   "id": "protecting-ceiling",
   "metadata": {},
   "source": [
    "### Difficulté de l'apprentissage avec un réseau de neurones"
   ]
  },
  {
   "cell_type": "markdown",
   "id": "overhead-soviet",
   "metadata": {},
   "source": [
    "Utiliser ce réseau de neurones a légèrement amélioré la performance, par rapport à la régression linéaire. Cependant, cela dépend énormément des _hyperparamètres_ du modèle, c'est-à-dire du nombre de couches intermédiaires, du nombre de neurones par couches, du choix de la fonction d'activation, ainsi que de l'initialisation aléatoire. \n",
    "\n",
    "Vous pouvez le vérifier en modifiant ces choix :"
   ]
  },
  {
   "cell_type": "code",
   "execution_count": null,
   "id": "editorial-major",
   "metadata": {},
   "outputs": [],
   "source": [
    "mlpreg = neural_network.MLPRegressor(hidden_layer_sizes=20, solver='lbfgs', max_iter=1000, random_state=47)"
   ]
  },
  {
   "cell_type": "code",
   "execution_count": null,
   "id": "isolated-pound",
   "metadata": {},
   "outputs": [],
   "source": [
    "mlpreg.fit(X_train, y_train)"
   ]
  },
  {
   "cell_type": "code",
   "execution_count": null,
   "id": "spoken-fellowship",
   "metadata": {},
   "outputs": [],
   "source": [
    "y_test_pred = mlpreg.predict(X_test)"
   ]
  },
  {
   "cell_type": "code",
   "execution_count": null,
   "id": "parental-reasoning",
   "metadata": {},
   "outputs": [],
   "source": [
    "plt.scatter(y_test, y_test_pred)\n",
    "\n",
    "plt.xlabel(\"Poids réel (g)\")\n",
    "plt.ylabel(\"Poids prédit (g)\")\n",
    "\n",
    "plt.text(3000, 5500, (\"RMSE = %.2f g\" % (metrics.mean_squared_error(y_test, y_test_pred, squared=False))))\n",
    "plt.text(3000, 5200, (\"R2 = %.2f\" % (metrics.r2_score(y_test, y_test_pred))))"
   ]
  },
  {
   "cell_type": "markdown",
   "id": "former-forestry",
   "metadata": {},
   "source": [
    "## 2. Réseau de neurones pour la classification"
   ]
  },
  {
   "cell_type": "markdown",
   "id": "arranged-heart",
   "metadata": {},
   "source": [
    "Reprenons le Problème 2 défini dans le notebook `0-Donnees.ipynb`. Peut-on améliorer la performance de la régression linéaire en utilisant un modèle non linéaire ?"
   ]
  },
  {
   "cell_type": "markdown",
   "id": "based-bulletin",
   "metadata": {},
   "source": [
    "### Chargement des données"
   ]
  },
  {
   "cell_type": "code",
   "execution_count": null,
   "id": "lightweight-robinson",
   "metadata": {},
   "outputs": [],
   "source": [
    "y_classif = pd.Categorical(penguins[\"sex\"]).astype('category').codes"
   ]
  },
  {
   "cell_type": "markdown",
   "id": "spread-framing",
   "metadata": {},
   "source": [
    "### Séparation des données en jeu d'entraînement et jeu de test"
   ]
  },
  {
   "cell_type": "code",
   "execution_count": null,
   "id": "recognized-omaha",
   "metadata": {},
   "outputs": [],
   "source": [
    "(X_train, X_test, y_train, y_test) = model_selection.train_test_split(X, y_classif, test_size=0.3, random_state=25, \n",
    "                                                                      stratify=y_classif)"
   ]
  },
  {
   "cell_type": "markdown",
   "id": "honey-productivity",
   "metadata": {},
   "source": [
    "### Formalisme "
   ]
  },
  {
   "cell_type": "markdown",
   "id": "backed-spring",
   "metadata": {},
   "source": [
    "Le perceptron multi-couches pour la classification est au perceptron multi-couches pour la régression ce que la régression logistique est à la régression linéaire.\n",
    "\n",
    "Nous disposons de $n$ observations en $p$ dimensions, représentés par une matrice $X \\in \\mathbb{R}^{nxp}$ (ici, $p=3$), et d'un vecteur d'étiquettes $\\boldsymbol{y} \\in \\{0, 1\\}^{n}$. \n",
    "\n",
    "Comme dans la régression logistique, il s'agit de modéliser la probabilité qu'une observation appartienne à la classe positive, autrement dit ait l'étiquette 1, par une transformation logistique d'une fonction $f$, cette fois non-linéaire, des variables. En notant $X$ un vecteur alétaoire réel $p$-dimensionnel qui modélise un manchot et $Y$ une variable aléatoire discrète à valeurs dans $\\{0, 1\\}$ qui modélise son étiquette, on modélise donc toujours\n",
    "$\\mathbb{P}(Y = 1|X = \\boldsymbol{x})$ par $f(\\boldsymbol{x}).$ \n",
    "\n",
    "La forme de $f$ est donnée par l'architecture du réseau de neurones.\n",
    "Pour un réseau de neurones à une couche cachée et $m$ neurones, la forme de $f$ est la même que ci-dessus pour le MPL pour la régression.\n",
    "\n",
    "Pour trouver les paramètres de $f$, on a de nouveau recours à la __minimiation du risque empirique__ ; le risque empirique est calculé avec la __perte logistique__ $(y, f(\\boldsymbol{x})) \\mapsto - y \\log(f(\\boldsymbol{x})- (1-y) \\log(1-f(\\boldsymbol{x}))$ comme fonction de perte. \n",
    "\n",
    "Comme dans le cas du perceptron multi-couches pour la régression, ce problème d'optimisation n'est en général pas convexe. On risque d'obtenir un minimum local."
   ]
  },
  {
   "cell_type": "markdown",
   "id": "democratic-wisconsin",
   "metadata": {},
   "source": [
    "### Entraînement d'un réseau de neurones avec scikit-learn"
   ]
  },
  {
   "cell_type": "markdown",
   "id": "labeled-understanding",
   "metadata": {},
   "source": [
    "Pour la classification, nous utilisons [la classe `MLPClassifier`](https://scikit-learn.org/stable/modules/generated/sklearn.neural_network.MLPClassifier.html#sklearn.neural_network.MLPClassifier). "
   ]
  },
  {
   "cell_type": "markdown",
   "id": "alone-neutral",
   "metadata": {},
   "source": [
    "1. Instancions un objet de la classe `MLPClassifier`.\n",
    "\n",
    "Nous utilisons cette fois la fonction logistique comme fonction d'activation."
   ]
  },
  {
   "cell_type": "code",
   "execution_count": null,
   "id": "august-flavor",
   "metadata": {},
   "outputs": [],
   "source": [
    "mlpclass = neural_network.MLPClassifier(hidden_layer_sizes=10, activation='logistic', solver='lbfgs', max_iter=1000, random_state=47)"
   ]
  },
  {
   "cell_type": "markdown",
   "id": "local-savage",
   "metadata": {},
   "source": [
    "2. Entraînons cet objet sur les données d'entraînement avec la méthode `fit` :"
   ]
  },
  {
   "cell_type": "code",
   "execution_count": null,
   "id": "returning-bicycle",
   "metadata": {},
   "outputs": [],
   "source": [
    "mlpclass.fit(X_train, y_train)"
   ]
  },
  {
   "cell_type": "markdown",
   "id": "square-depth",
   "metadata": {},
   "source": [
    "Il se peut ici que vous receviez un message d'erreur car le solveur ne converge pas. Vous pouvez relancer plusieurs fois l'appel à `fit` (la convergence dépendant de l'initialisation, qui est aléatoire). Si cela ne suffit pas, augmentez le nombre d'itérations en augmentant la valeur du paramètre `max_iter` ou relâchez la tolérance en augmentant la valeur du paramètre `tol`."
   ]
  },
  {
   "cell_type": "markdown",
   "id": "indonesian-redhead",
   "metadata": {},
   "source": [
    "3. Enfin, prédisons les étiquettes des données du jeu de test en utilisant la méthode `predict` :"
   ]
  },
  {
   "cell_type": "code",
   "execution_count": null,
   "id": "isolated-tamil",
   "metadata": {},
   "outputs": [],
   "source": [
    "y_test_pred = mlpclass.predict(X_test)"
   ]
  },
  {
   "cell_type": "markdown",
   "id": "partial-multiple",
   "metadata": {},
   "source": [
    "### Performance"
   ]
  },
  {
   "cell_type": "markdown",
   "id": "foreign-broad",
   "metadata": {},
   "source": [
    "Regardons la __matrice de confusion__ des prédictions :"
   ]
  },
  {
   "cell_type": "code",
   "execution_count": null,
   "id": "tamil-transportation",
   "metadata": {},
   "outputs": [],
   "source": [
    "metrics.plot_confusion_matrix(mlpclass, X_test, y_test)"
   ]
  },
  {
   "cell_type": "code",
   "execution_count": null,
   "id": "needed-replacement",
   "metadata": {},
   "outputs": [],
   "source": [
    "print(\"%d manchots mâles ont été incorrectement prédits femelle.\" % metrics.confusion_matrix(y_test, y_test_pred)[1, 0])\n",
    "print(\"%d manchots femelles ont été incorrectement prédits mâles.\" % metrics.confusion_matrix(y_test, y_test_pred)[0, 1])"
   ]
  },
  {
   "cell_type": "code",
   "execution_count": null,
   "id": "veterinary-witness",
   "metadata": {},
   "outputs": [],
   "source": [
    "print(\"%.f%% des prédictions du modèle sur le jeu de test sont correctes.\" % (100*metrics.accuracy_score(y_test, y_test_pred)))"
   ]
  }
 ],
 "metadata": {
  "kernelspec": {
   "display_name": "Python 3",
   "language": "python",
   "name": "python3"
  },
  "language_info": {
   "codemirror_mode": {
    "name": "ipython",
    "version": 3
   },
   "file_extension": ".py",
   "mimetype": "text/x-python",
   "name": "python",
   "nbconvert_exporter": "python",
   "pygments_lexer": "ipython3",
   "version": "3.8.5"
  }
 },
 "nbformat": 4,
 "nbformat_minor": 5
}
