{
 "cells": [
  {
   "cell_type": "markdown",
   "id": "0a9f799e",
   "metadata": {},
   "source": [
    "# Stage LIESSE – Suppléments"
   ]
  },
  {
   "cell_type": "markdown",
   "id": "783bf82f",
   "metadata": {},
   "source": [
    "Le but de ce notebook est de présenter quelques exemples supplémentaires d'utilisation de scikit-learn"
   ]
  },
  {
   "cell_type": "markdown",
   "id": "10448182",
   "metadata": {},
   "source": [
    "## Chargement des librairies"
   ]
  },
  {
   "cell_type": "code",
   "execution_count": null,
   "id": "e3f12d13",
   "metadata": {},
   "outputs": [],
   "source": [
    "%pylab inline "
   ]
  },
  {
   "cell_type": "code",
   "execution_count": null,
   "id": "646e2130",
   "metadata": {},
   "outputs": [],
   "source": [
    "from IPython.display import set_matplotlib_formats\n",
    "set_matplotlib_formats('svg')"
   ]
  },
  {
   "cell_type": "code",
   "execution_count": null,
   "id": "97e4389c",
   "metadata": {},
   "outputs": [],
   "source": [
    "import pandas as pd"
   ]
  },
  {
   "cell_type": "markdown",
   "id": "d5959500",
   "metadata": {},
   "source": [
    "## Un exemple de surapprentissage\n",
    "\n",
    "Reprenons la prédiction du sexe d'un manchot. Nous allons créer des variables supplémentaires, qui sont des combinaisons polynômiales de nos 3 variables, et faire sur-apprendre une régression logistique."
   ]
  },
  {
   "cell_type": "code",
   "execution_count": null,
   "id": "bbd65e50",
   "metadata": {},
   "outputs": [],
   "source": [
    "# Charger les données\n",
    "penguins = pd.read_csv(\"data/penguins.csv\")\n",
    "y = pd.Categorical(penguins[\"sex\"]).astype('category').codes\n",
    "X = penguins[[\"bill_length_mm\", \"bill_depth_mm\", \"flipper_length_mm\"]].to_numpy()"
   ]
  },
  {
   "cell_type": "code",
   "execution_count": null,
   "id": "1ae2e4fb",
   "metadata": {},
   "outputs": [],
   "source": [
    "# Séparer en jeu d'entraînement et jeu de test\n",
    "from sklearn import model_selection\n",
    "(X_train, X_test, y_train, y_test) = model_selection.train_test_split(X, y, test_size=0.3, random_state=25)"
   ]
  },
  {
   "cell_type": "code",
   "execution_count": null,
   "id": "05419e62",
   "metadata": {},
   "outputs": [],
   "source": [
    "# Centrer-réduire chaque variable avec StandardScaler()\n",
    "from sklearn import preprocessing\n",
    "scaler = preprocessing.StandardScaler()\n",
    "scaler.fit(X_train) # calcule les moyennes et écart-types de chaque variable sur le jeu d'entraînement\n",
    "X_train_scaled = scaler.transform(X_train) # retire à chaque variable sa moyenne et son écart-type\n",
    "X_test_scaled = scaler.transform(X_test) # retire à chaque variable sa moyenne et son écart-type (calculés sur le jeu d'entraînement)"
   ]
  },
  {
   "cell_type": "code",
   "execution_count": null,
   "id": "aec586bf",
   "metadata": {},
   "outputs": [],
   "source": [
    "# Créer des combinaisons polynômiales de nos variables\n",
    "polynomialisation = preprocessing.PolynomialFeatures(degree=5) # utilser des polynomes de degré 10\n",
    "X_train_poly = polynomialisation.fit_transform(X_train_scaled) \n",
    "X_test_poly = polynomialisation.fit_transform(X_test_scaled)\n",
    "X_train_poly.shape"
   ]
  },
  {
   "cell_type": "code",
   "execution_count": null,
   "id": "217fe2cf",
   "metadata": {},
   "outputs": [],
   "source": [
    "# Entrainer une régression logistique\n",
    "from sklearn import linear_model\n",
    "logreg = linear_model.LogisticRegression(penalty='none', solver='newton-cg', max_iter=1000)\n",
    "logreg.fit(X_train_poly, y_train)"
   ]
  },
  {
   "cell_type": "code",
   "execution_count": null,
   "id": "7a6483b9",
   "metadata": {},
   "outputs": [],
   "source": [
    "# Matrice de confusion sur le jeu d'entrainement\n",
    "from sklearn import metrics\n",
    "metrics.plot_confusion_matrix(logreg, X_train_poly, y_train)"
   ]
  },
  {
   "cell_type": "markdown",
   "id": "a958c2a0",
   "metadata": {},
   "source": [
    "Le modèle ne fait aucune erreur sur le jeu d'entraînement."
   ]
  },
  {
   "cell_type": "code",
   "execution_count": null,
   "id": "cfbf5305",
   "metadata": {},
   "outputs": [],
   "source": [
    "# Matrice de confusion sur le jeu de test\n",
    "metrics.plot_confusion_matrix(logreg, X_test_poly, y_test)"
   ]
  },
  {
   "cell_type": "markdown",
   "id": "c73cd9c9",
   "metadata": {},
   "source": [
    "Le modèle fait des erreurs sur le jeu de test."
   ]
  },
  {
   "cell_type": "markdown",
   "id": "2b2414bb",
   "metadata": {},
   "source": [
    "## Un exemple de classification multiclasse\n",
    "\n",
    "Nous allons maintenant essayer de prédire l'espèce d'un manchot à partir de la longueur et la hauteur de son bec."
   ]
  },
  {
   "cell_type": "code",
   "execution_count": null,
   "id": "ba68ebe5",
   "metadata": {},
   "outputs": [],
   "source": [
    "# Charger les données\n",
    "penguins = pd.read_csv(\"data/penguins.csv\")"
   ]
  },
  {
   "cell_type": "code",
   "execution_count": null,
   "id": "9e85d0cf",
   "metadata": {},
   "outputs": [],
   "source": [
    "# Récupérer les noms d'espèces de manchots\n",
    "np.unique(penguins[\"species\"])"
   ]
  },
  {
   "cell_type": "code",
   "execution_count": null,
   "id": "5c604e5e",
   "metadata": {},
   "outputs": [],
   "source": [
    "# Visualisation de la hauteur versus longueur du bec, par espèce\n",
    "for penguin_species in np.unique(penguins[\"species\"]):\n",
    "    plt.scatter(penguins.loc[penguins[\"species\"] == penguin_species][\"bill_length_mm\"], \n",
    "                penguins.loc[penguins[\"species\"] == penguin_species][\"bill_depth_mm\"], \n",
    "                label=penguin_species)\n",
    "plt.xlabel(\"Longueur du bec (mm)\")\n",
    "plt.ylabel(\"Hauteur du bec (mm)\")\n",
    "plt.legend()"
   ]
  },
  {
   "cell_type": "markdown",
   "id": "df82c1a1",
   "metadata": {},
   "source": [
    "__Commentaire :__  Les données semblent assez bien séparées !"
   ]
  },
  {
   "cell_type": "code",
   "execution_count": null,
   "id": "6da98785",
   "metadata": {},
   "outputs": [],
   "source": [
    "# Extraire la matrice X et le vecteur y\n",
    "X = penguins[[\"bill_length_mm\", \"bill_depth_mm\"]].to_numpy()\n",
    "y = pd.Categorical(penguins[\"species\"]).astype('category').codes"
   ]
  },
  {
   "cell_type": "code",
   "execution_count": null,
   "id": "fa1c13f7",
   "metadata": {},
   "outputs": [],
   "source": [
    "# Séparer en train/test\n",
    "from sklearn import model_selection\n",
    "(X_train, X_test, y_train, y_test) = model_selection.train_test_split(X, y, test_size=0.3, random_state=25, \n",
    "                                                                      stratify=y)"
   ]
  },
  {
   "cell_type": "code",
   "execution_count": null,
   "id": "31f703c0",
   "metadata": {},
   "outputs": [],
   "source": [
    "# Instancier un obket de la classe KNeighborsClassifiers \n",
    "from sklearn import neighbors\n",
    "knnclass = neighbors.KNeighborsClassifier(n_neighbors=15) # on utilise ici l'heuristique k=racine carrée(n)"
   ]
  },
  {
   "cell_type": "code",
   "execution_count": null,
   "id": "43c24776",
   "metadata": {},
   "outputs": [],
   "source": [
    "# Entrainer le classifieur\n",
    "knnclass.fit(X_train, y_train)"
   ]
  },
  {
   "cell_type": "code",
   "execution_count": null,
   "id": "4a7485b9",
   "metadata": {},
   "outputs": [],
   "source": [
    "# Utiliser le classifieur pour prédire sur les données de test\n",
    "y_test_pred = knnclass.predict(X_test)"
   ]
  },
  {
   "cell_type": "code",
   "execution_count": null,
   "id": "b22c8438",
   "metadata": {},
   "outputs": [],
   "source": [
    "# Matrice de confusion  \n",
    "from sklearn import metrics\n",
    "metrics.plot_confusion_matrix(knnclass, X_test, y_test)"
   ]
  },
  {
   "cell_type": "markdown",
   "id": "f8364e97",
   "metadata": {},
   "source": [
    "__Pour aller plus loin :__ En reprenant le code du notebook 3, optimisez la valeur du nombre de voisins."
   ]
  },
  {
   "cell_type": "markdown",
   "id": "576c7758",
   "metadata": {},
   "source": [
    "## Un exemple de traitement des chiffres manuscrits\n",
    "\n",
    "On va utiliser le jeu de données `digits` de `scikit-learn`. [Documentation](https://scikit-learn.org/stable/datasets/toy_dataset.html#digits-dataset)"
   ]
  },
  {
   "cell_type": "code",
   "execution_count": null,
   "id": "afe28278",
   "metadata": {},
   "outputs": [],
   "source": [
    "# Charger les données\n",
    "from sklearn import datasets\n",
    "digits = datasets.load_digits()"
   ]
  },
  {
   "cell_type": "markdown",
   "id": "f57aaeba",
   "metadata": {},
   "source": [
    "`digits.images` contient les observations sous formes d'images 8 pixels x 8 pixels. Chaque pixel est représenté par un nombre entre 0 et 255 correspondant à son niveau de gris. On peut les visualiser ainsi :"
   ]
  },
  {
   "cell_type": "code",
   "execution_count": null,
   "id": "83a4a934",
   "metadata": {},
   "outputs": [],
   "source": [
    "first_image = digits.images[0] # premiere image du jeu de donnees\n",
    "plt.imshow(first_image, \n",
    "           cmap=plt.cm.gray_r) # utiliser une color map \"niveaux de gris\""
   ]
  },
  {
   "cell_type": "markdown",
   "id": "5cd2c3be",
   "metadata": {},
   "source": [
    "`digits.data` contient les observations sous formes de vecteurs de taille 64 : on a mis bout à bout tous les pixels. On peut les visualiser aussi :"
   ]
  },
  {
   "cell_type": "code",
   "execution_count": null,
   "id": "cdcd64fc",
   "metadata": {},
   "outputs": [],
   "source": [
    "first_image_vector = digits.data[0] # représentation vectorielle de la première image\n",
    "fig = plt.figure(figsize=(15, 64))\n",
    "plt.imshow(np.reshape(first_image_vector, (1, 64)), # imshow prend une matrice en entrée, pas un vecteur\n",
    "           cmap=plt.cm.gray_r)"
   ]
  },
  {
   "cell_type": "markdown",
   "id": "288f6f05",
   "metadata": {},
   "source": [
    "`digits.target` contient les étiquettes :"
   ]
  },
  {
   "cell_type": "code",
   "execution_count": null,
   "id": "3255c471",
   "metadata": {},
   "outputs": [],
   "source": [
    "np.unique(digits.target)"
   ]
  },
  {
   "cell_type": "code",
   "execution_count": null,
   "id": "8b048d36",
   "metadata": {},
   "outputs": [],
   "source": [
    "print(\"Le jeu de données contient %d observations\" % digits.target.shape[0])"
   ]
  },
  {
   "cell_type": "code",
   "execution_count": null,
   "id": "9872bd79",
   "metadata": {},
   "outputs": [],
   "source": [
    "# Séparer les données en entrainement et test :\n",
    "(X_train, X_test, y_train, y_test) = model_selection.train_test_split(digits.data, digits.target, test_size=0.3, random_state=25, \n",
    "                                                                      stratify=digits.target)"
   ]
  },
  {
   "cell_type": "code",
   "execution_count": null,
   "id": "9bf57730",
   "metadata": {},
   "outputs": [],
   "source": [
    "# Entrainer un kNN\n",
    "from sklearn import neighbors\n",
    "knnclass = neighbors.KNeighborsClassifier(n_neighbors=7)\n",
    "knnclass.fit(X_train, y_train)"
   ]
  },
  {
   "cell_type": "code",
   "execution_count": null,
   "id": "eb784fbd",
   "metadata": {},
   "outputs": [],
   "source": [
    "# Matrice de confusion sur le jeu de test\n",
    "from sklearn import metrics\n",
    "metrics.plot_confusion_matrix(knnclass, X_test, y_test)"
   ]
  },
  {
   "cell_type": "code",
   "execution_count": null,
   "id": "6d19c34c",
   "metadata": {},
   "outputs": [],
   "source": []
  }
 ],
 "metadata": {
  "kernelspec": {
   "display_name": "Python 3",
   "language": "python",
   "name": "python3"
  },
  "language_info": {
   "codemirror_mode": {
    "name": "ipython",
    "version": 3
   },
   "file_extension": ".py",
   "mimetype": "text/x-python",
   "name": "python",
   "nbconvert_exporter": "python",
   "pygments_lexer": "ipython3",
   "version": "3.9.4"
  }
 },
 "nbformat": 4,
 "nbformat_minor": 5
}
