{
 "cells": [
  {
   "cell_type": "markdown",
   "metadata": {},
   "source": [
    "# Stage LIESSE – TP – Préliminaires : Exploration des données"
   ]
  },
  {
   "cell_type": "markdown",
   "metadata": {},
   "source": [
    "Dans cette partie pratique nous allons utiliser un jeu de données décrivant des manchots, le jeu [Palmer Penguins](https://allisonhorst.github.io/palmerpenguins/).\n",
    "\n",
    "Ces données sont mises à disposition par [la base antarctique Palmer](http://pal.lternet.edu/) sous licence [CC-0](CC-0).\n",
    "\n",
    "Le jeu de données contient des informations décrivant un certain nombre de manchots appartenant à trois espèces :\n",
    "* Manchot d'Adélie (_Pygoscelis adeliae_), `Adelie` dans les données\n",
    "* Manchot papou (_Pygoscelis papua_),  `Gentoo` dans les données\n",
    "* Manchot à jugulaire (_Pygoscelis antarcticus_), `Chinstrap` dans les données."
   ]
  },
  {
   "cell_type": "markdown",
   "metadata": {},
   "source": [
    "__Les trois espèces de manchots:__ (illustration par @allison_horst)\n",
    "\n",
    "<img src=\"https://allisonhorst.github.io/palmerpenguins/reference/figures/lter_penguins.png\" alt=\"https://allisonhorst.github.io/palmerpenguins/reference/figures/lter_penguins.png\" style=\"width: 400px;\"/>"
   ]
  },
  {
   "cell_type": "markdown",
   "metadata": {},
   "source": [
    "Pour chacun des manchots, le jeu de données contient \n",
    "* la longueur de son bec en mm (`bill_length_mm`)\n",
    "* la hauteur de son bec en mm (`bill_depth_mm`)\n",
    "* la longueur de ses palettes natatoires en mm (`flipper_length_mm`)\n",
    "* son poids en g (`body_mass_g`)"
   ]
  },
  {
   "cell_type": "markdown",
   "metadata": {},
   "source": [
    "__Caractéristiques du bec:__ (illustration par @allison_horst)\n",
    "\n",
    "<img src=\"https://allisonhorst.github.io/palmerpenguins/reference/figures/culmen_depth.png\" alt=\"https://allisonhorst.github.io/palmerpenguins/reference/figures/culmen_depth.png\" style=\"width: 400px;\"/>"
   ]
  },
  {
   "cell_type": "markdown",
   "metadata": {},
   "source": [
    "## 1. Chargement des librairies"
   ]
  },
  {
   "cell_type": "markdown",
   "metadata": {},
   "source": [
    "__Numpy et matplotlib__\n",
    "\n",
    "Pour charger `numpy` et `matplotlib` dans un notebook Jupyter, nous utilisons la commande magique `%pylab inline` ([documentation](https://ipython.readthedocs.io/en/stable/interactive/magics.html#magic-pylab)) qui est équivalente à\n",
    "```\n",
    "import numpy as np\n",
    "import matlab.pyplot as plt\n",
    "```\n",
    "\n",
    "Le mot-clé `inline` permet d'afficher les graphiques dans le corps du notebook."
   ]
  },
  {
   "cell_type": "code",
   "execution_count": null,
   "metadata": {},
   "outputs": [],
   "source": [
    "%pylab inline "
   ]
  },
  {
   "cell_type": "markdown",
   "metadata": {},
   "source": [
    "Pour une meilleure qualité d'affichage des graphiques, nous utilisons le format SVG."
   ]
  },
  {
   "cell_type": "code",
   "execution_count": null,
   "metadata": {},
   "outputs": [],
   "source": [
    "from IPython.display import set_matplotlib_formats\n",
    "set_matplotlib_formats('svg')"
   ]
  },
  {
   "cell_type": "markdown",
   "metadata": {},
   "source": [
    "__Pandas__\n",
    "\n",
    "La librairie `pandas` nous permet de charger et manipuler les données."
   ]
  },
  {
   "cell_type": "code",
   "execution_count": null,
   "metadata": {},
   "outputs": [],
   "source": [
    "import pandas as pd"
   ]
  },
  {
   "cell_type": "markdown",
   "metadata": {},
   "source": [
    "## 2. Chargement des données"
   ]
  },
  {
   "cell_type": "markdown",
   "metadata": {},
   "source": [
    "Les données sont disponibles [au format `csv` (\"comma-separated values\")](https://fr.wikipedia.org/wiki/Comma-separated_values) dans le fichier `data/penguins.csv`. Nous allons les charger grâce à la librairie `pandas`."
   ]
  },
  {
   "cell_type": "code",
   "execution_count": null,
   "metadata": {},
   "outputs": [],
   "source": [
    "import pandas as pd\n",
    "\n",
    "penguins = pd.read_csv(\"data/penguins.csv\")"
   ]
  },
  {
   "cell_type": "markdown",
   "metadata": {},
   "source": [
    "Nous pouvons maintenant visualiser la table des données :"
   ]
  },
  {
   "cell_type": "code",
   "execution_count": null,
   "metadata": {},
   "outputs": [],
   "source": [
    "penguins"
   ]
  },
  {
   "cell_type": "markdown",
   "metadata": {},
   "source": [
    "__Question :__ Combien d'échantillons comporte notre jeu de données ?"
   ]
  },
  {
   "cell_type": "markdown",
   "metadata": {},
   "source": [
    "__Réponse :__ La table de données contient 333 lignes, c'est donc le nombre de manchots i.e. d'échantillons. On peut aussi y accéder grâce à `penguins.shape` :"
   ]
  },
  {
   "cell_type": "code",
   "execution_count": null,
   "metadata": {},
   "outputs": [],
   "source": [
    "penguins.shape"
   ]
  },
  {
   "cell_type": "markdown",
   "metadata": {},
   "source": [
    "## 3. Problème 1 : prédire le poids d'un manchot\n",
    "\n",
    "Le premier problème que nous allons étudier dans cette session va être de prédire le poids  d'un manchot à partir de la taille (longueur et hauteur) de son bec ainsi que de la longueur de ses nageoires."
   ]
  },
  {
   "cell_type": "markdown",
   "metadata": {},
   "source": [
    "__Question :__ De quel type de problème s'agit-il ?"
   ]
  },
  {
   "cell_type": "markdown",
   "metadata": {},
   "source": [
    "__Réponse :__ L'étiquette à prédire est _quantitative_, il s'agit donc d'un problème de _régression._"
   ]
  },
  {
   "cell_type": "markdown",
   "metadata": {},
   "source": [
    "### Visualisation\n",
    "\n",
    "Nous allons représenter ici le poids d'un manchot en fonction de chacune des trois variables :"
   ]
  },
  {
   "cell_type": "code",
   "execution_count": null,
   "metadata": {},
   "outputs": [],
   "source": [
    "%pylab inline "
   ]
  },
  {
   "cell_type": "code",
   "execution_count": null,
   "metadata": {},
   "outputs": [],
   "source": [
    "# Utilisation de SVG pour faire des figures plus nettes\n",
    "from IPython.display import set_matplotlib_formats\n",
    "set_matplotlib_formats('svg')"
   ]
  },
  {
   "cell_type": "code",
   "execution_count": null,
   "metadata": {},
   "outputs": [],
   "source": [
    "fig = plt.figure(figsize=(15, 5))\n",
    "\n",
    "# Figure 1 dans une grille (1 x 3)\n",
    "ax = plt.subplot(1, 3, 1)\n",
    "ax.scatter(penguins[\"bill_length_mm\"], penguins[\"body_mass_g\"])\n",
    "plt.xlabel(\"Longueur du bec (mm)\")\n",
    "plt.ylabel(\"Poids (g)\")\n",
    "\n",
    "# Figure 2 dans une grille (1 x 3)\n",
    "ax = plt.subplot(1, 3, 2)\n",
    "ax.scatter(penguins[\"bill_depth_mm\"], penguins[\"body_mass_g\"])\n",
    "plt.xlabel(\"Hauteur du bec (mm)\")\n",
    "plt.ylabel(\"Poids (g)\")\n",
    "\n",
    "# Figure 3 dans une grille (1 x 3)\n",
    "ax = plt.subplot(1, 3, 3)\n",
    "ax.scatter(penguins[\"flipper_length_mm\"], penguins[\"body_mass_g\"])\n",
    "plt.xlabel(\"Longueur de la palette natatoire (mm)\")\n",
    "plt.ylabel(\"Poids (g)\")"
   ]
  },
  {
   "cell_type": "markdown",
   "metadata": {},
   "source": [
    "### Extraction des données"
   ]
  },
  {
   "cell_type": "markdown",
   "metadata": {},
   "source": [
    "Nous avons formulé nos algorithmes de _machine learning_ de sorte à considérer une matrice de données $X$ (autant de lignes que d'observations, autant de colonnes que de variables) et un vecteur d'étiquettes `y` (autant d'entrées que d'observations).\n",
    "\n",
    "__Question :__ Quelles sont les dimensions de $X$ et $y$ dans le cas du Problème 1 ?"
   ]
  },
  {
   "cell_type": "markdown",
   "metadata": {},
   "source": [
    "__Réponse :__ Le nombre d'observations est le nombre de manchots (333). Le nombre de variables est 3 (`bill_length_mm`, `bill_depth_mm`, `flipper_length_mm`)."
   ]
  },
  {
   "cell_type": "markdown",
   "metadata": {},
   "source": [
    "Nous allons maintenant créer les arrays numpy correspondant à $X$ et $y$."
   ]
  },
  {
   "cell_type": "code",
   "execution_count": null,
   "metadata": {},
   "outputs": [],
   "source": [
    "X = penguins[[\"bill_length_mm\", \"bill_depth_mm\", \"flipper_length_mm\"]].to_numpy()\n",
    "y_regress = penguins[\"body_mass_g\"]"
   ]
  },
  {
   "cell_type": "markdown",
   "metadata": {},
   "source": [
    "Vérifions que nos array ont les bonnes dimensions :"
   ]
  },
  {
   "cell_type": "code",
   "execution_count": null,
   "metadata": {},
   "outputs": [],
   "source": [
    "print(X.shape)"
   ]
  },
  {
   "cell_type": "code",
   "execution_count": null,
   "metadata": {},
   "outputs": [],
   "source": [
    "print(y_regress.shape)"
   ]
  },
  {
   "cell_type": "markdown",
   "metadata": {},
   "source": [
    "## 4. Problème 2 : prédire le sexe d'un manchot \n",
    "\n",
    "Le deuxième problème que nous allons étudier dans cette session va être de prédire si un manchot est mâle ou femelle à partir de la taille (longueur et hauteur) de son bec ainsi que de la longueur de ses nageoires."
   ]
  },
  {
   "cell_type": "markdown",
   "metadata": {},
   "source": [
    "__Question :__ De quel type de problème s'agit-il ?"
   ]
  },
  {
   "cell_type": "markdown",
   "metadata": {},
   "source": [
    "__Réponse :__ L'étiquette à prédire est _binaire_, il s'agit donc d'un problème de _classification binaire._"
   ]
  },
  {
   "cell_type": "code",
   "execution_count": null,
   "metadata": {},
   "outputs": [],
   "source": [
    "fig = plt.figure(figsize=(15, 5))\n",
    "\n",
    "# Figure 1 dans une grille (1 x 3)\n",
    "ax = plt.subplot(1, 3, 1)\n",
    "for penguin_sex in [\"male\", \"female\"]:\n",
    "    ax.scatter(penguins.loc[penguins[\"sex\"] == penguin_sex][\"bill_length_mm\"], \n",
    "               penguins.loc[penguins[\"sex\"] == penguin_sex][\"bill_depth_mm\"], \n",
    "               label=penguin_sex)\n",
    "plt.xlabel(\"Longueur du bec (mm)\")\n",
    "plt.ylabel(\"Hauteur du bec (mm)\")\n",
    "\n",
    "# Figure 2 dans une grille (1 x 3)\n",
    "ax = plt.subplot(1, 3, 2)\n",
    "for penguin_sex in [\"male\", \"female\"]:\n",
    "    ax.scatter(penguins.loc[penguins[\"sex\"] == penguin_sex][\"bill_length_mm\"], \n",
    "               penguins.loc[penguins[\"sex\"] == penguin_sex][\"flipper_length_mm\"], \n",
    "               label=penguin_sex)\n",
    "plt.xlabel(\"Longueur du bec (mm)\")\n",
    "plt.ylabel(\"Longueur de la palette natatoire (mm)\")\n",
    "\n",
    "# Figure 3 dans une grille (1 x 3)\n",
    "ax = plt.subplot(1, 3, 3)\n",
    "for penguin_sex in [\"male\", \"female\"]:\n",
    "    ax.scatter(penguins.loc[penguins[\"sex\"] == penguin_sex][\"bill_depth_mm\"], \n",
    "               penguins.loc[penguins[\"sex\"] == penguin_sex][\"flipper_length_mm\"], \n",
    "               label=penguin_sex)\n",
    "plt.xlabel(\"Hauteur du bec (mm)\")\n",
    "plt.ylabel(\"Longueur de la palette natatoire (mm)\")\n",
    "\n",
    "plt.legend()"
   ]
  },
  {
   "cell_type": "markdown",
   "metadata": {},
   "source": [
    "### Extraction des données"
   ]
  },
  {
   "cell_type": "markdown",
   "metadata": {},
   "source": [
    "__Question :__ Quelles sont les dimensions de $X$ et $y$ dans le cas du Problème 2 ?"
   ]
  },
  {
   "cell_type": "markdown",
   "metadata": {},
   "source": [
    "__Réponse :__ Le nombre d'observations est le nombre de manchots (333). Le nombre de variables est 3 (`bill_length_mm`, `bill_depth_mm`, `flipper_length_mm`)."
   ]
  },
  {
   "cell_type": "markdown",
   "metadata": {},
   "source": [
    "Nous allons maintenant créer les arrays numpy correspondant à $X$ et $y$. En particulier, nous allons transformer les étiquettes `female` et `male` en 0 et 1, respectivement."
   ]
  },
  {
   "cell_type": "code",
   "execution_count": null,
   "metadata": {},
   "outputs": [],
   "source": [
    "y_classif = pd.Categorical(penguins[\"sex\"]).astype('category').codes"
   ]
  },
  {
   "cell_type": "markdown",
   "metadata": {},
   "source": [
    "Vérifions que nos array ont les bonnes dimensions :"
   ]
  },
  {
   "cell_type": "code",
   "execution_count": null,
   "metadata": {},
   "outputs": [],
   "source": [
    "print(y_classif.shape)"
   ]
  },
  {
   "cell_type": "code",
   "execution_count": null,
   "metadata": {},
   "outputs": [],
   "source": [
    "y_classif"
   ]
  }
 ],
 "metadata": {
  "kernelspec": {
   "display_name": "Python 3",
   "language": "python",
   "name": "python3"
  },
  "language_info": {
   "codemirror_mode": {
    "name": "ipython",
    "version": 3
   },
   "file_extension": ".py",
   "mimetype": "text/x-python",
   "name": "python",
   "nbconvert_exporter": "python",
   "pygments_lexer": "ipython3",
   "version": "3.8.8"
  }
 },
 "nbformat": 4,
 "nbformat_minor": 4
}
