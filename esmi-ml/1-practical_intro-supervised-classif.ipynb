{
 "cells": [
  {
   "cell_type": "markdown",
   "metadata": {},
   "source": [
    "# Practical session introducing supervised classification with SciKit-Learn\n",
    "\n",
    "In this notebook, you will:\n",
    "* learn to use a \"Jupyter notebook\" to perform your data analysis and machine-learning work *and keep track of every step*;\n",
    "* get familiarized with scikit-learn library;\n",
    "* develop a first classification algorithm.\n",
    "\n",
    "This noteboook uses the following libraries:\n",
    "* python3 \n",
    "* numpy\n",
    "* matplotlib \n",
    "* scikit-learn \n",
    "\n",
    "In order to verify if these library are properly installed on your computer, and check which versions, run the cell below by clicking on it and then on the \"Play\" button above this window (or use the Shift+Enter shortcut)."
   ]
  },
  {
   "cell_type": "code",
   "execution_count": 1,
   "metadata": {},
   "outputs": [
    {
     "name": "stdout",
     "output_type": "stream",
     "text": [
      "3.8.10 | packaged by conda-forge | (default, Sep 13 2021, 21:12:34) [MSC v.1916 64 bit (AMD64)]\n",
      "1.20.3\n",
      "3.4.3\n",
      "0.24.2\n"
     ]
    }
   ],
   "source": [
    "import sys\n",
    "print(sys.version)\n",
    "\n",
    "import numpy\n",
    "print(numpy.__version__)\n",
    "\n",
    "import matplotlib\n",
    "print(matplotlib.__version__)\n",
    "\n",
    "import sklearn\n",
    "print(sklearn.__version__)"
   ]
  },
  {
   "cell_type": "markdown",
   "metadata": {},
   "source": [
    "# 1.  The Jupyter notebook \n",
    "\n",
    "Jupyter is a web application allowing to create and share documents named _notebooks_ (such as the present `intro-supervised-classif.ipynb` file), that can contain: 1/ explanatory text formatted in simple markdown, and equations; 2/ modifiable code that can be executed directly in the web page, with resulting output and visualization appearing directly on the page, just below the code cell.\n",
    "\n",
    "A few information about use of Jupyter notebooks:\n",
    "* A notebook is structured in editable blocks called _cells_. A cell can contain _raw text_, code, or markdown-formatted text. For more information on markdown syntax, you can read the following [guide](http://jupyter-notebook.readthedocs.io/en/latest/examples/Notebook/Working%20With%20Markdown%20Cells.html) !\n",
    "* To execute a cell, just click on it to select it, and then type the Shift+Enter shortcut (or use the Play button in the menu bar).\n",
    "* To create a new empty cell below the currently selected one, type the Alt+Enter shortcut (or use the \"+\" button on the menu bar).\n",
    "* The Insert menu also allows to insert a new cell either below or above the currently selected one. \n",
    "* In case the notebook is frozen (i.e. stops responding to commands), you can restart it either by pressing the Restart button or using the Kernel --> Restart menu.\n",
    "\n",
    "A few elements about using Jupyter notebooks containing Python code:\n",
    "* A Python code cell behaves like an interactive Python shell (more precisely like ipython, on which Jupyter is based). In particular: \n",
    "  * The tabulation key performs auto-completion of the keyword you have begun to type\n",
    "  * Typing a question mark after the name of an object loads and and displays interactive help for this function.\n",
    "* Jupyter includes special Python commands called _magics_. For example, `%bash` allows to execute bash code as if you were in a linux terminal, `%paste` allows to paste a code block that had been copied before (from the notebook or another application) while respecting its formatting (in particular indentations), and `%matplotlib inline` allows to display matplotlib graphic visualisations _inside the notebook_ instead of an external window. A complete list of _magics_ can be found at http://ipython.readthedocs.io/en/stable/interactive/magics.html \n",
    "\n",
    "\n",
    "### Ressources \n",
    "* To know more about interactive Python shell python: http://ipython.readthedocs.io/en/stable/interactive/tutorial.html\n",
    "* To know more about Jupyter : https://jupyter.org/\n",
    "* Python and Python Scientifique : http://www.scipy-lectures.org/\n",
    "* For a quick introduction to difference between python shell, interactive python shell, and notebooks: https://www.youtube.com/watch?v=ULzWaZQa1Dc (in French)"
   ]
  },
  {
   "cell_type": "code",
   "execution_count": 2,
   "metadata": {},
   "outputs": [],
   "source": [
    "# Importation of classic computation and visualization packages \n",
    "import matplotlib.pyplot as plt\n",
    "import seaborn as sns\n",
    "import numpy as np"
   ]
  },
  {
   "cell_type": "markdown",
   "metadata": {},
   "source": [
    "# 2. Data handling"
   ]
  },
  {
   "cell_type": "markdown",
   "metadata": {},
   "source": [
    "This practical aims at familiarizing you with scikit-learn, and learn to use models contained in this library.\n",
    "\n",
    "We will use a simplified version (called _digits_) of the classic MNIST dataset. Each exampl of this dataset is a handwritten digit in low resolution (`8x8`images).\n",
    "Let's import it."
   ]
  },
  {
   "cell_type": "code",
   "execution_count": 3,
   "metadata": {},
   "outputs": [
    {
     "name": "stdout",
     "output_type": "stream",
     "text": [
      "(1797, 64)\n",
      "[0 1 2 ... 8 9 8]\n"
     ]
    }
   ],
   "source": [
    "from sklearn import datasets\n",
    "digits = datasets.load_digits()\n",
    "print(digits.data.shape)\n",
    "print(digits.target)"
   ]
  },
  {
   "cell_type": "markdown",
   "metadata": {},
   "source": [
    "The `data` attribute of an sklearn dataset systematically has the following dimensions: `(n_samples, n_features)`.\n",
    "Here, one line is therefore a vector corresponding to a \"flattened\" image. This image can be visualized after restructuring the vector with the `.reshape` method of a numpy table."
   ]
  },
  {
   "cell_type": "code",
   "execution_count": 4,
   "metadata": {},
   "outputs": [
    {
     "data": {
      "image/png": "[encoded data removed]",
      "text/plain": [
       "<Figure size 432x288 with 16 Axes>"
      ]
     },
     "metadata": {
      "needs_background": "light"
     },
     "output_type": "display_data"
    }
   ],
   "source": [
    "# Plot of the 16 first examples of the dataset.\n",
    "for i in range(16):\n",
    "    ax = plt.subplot(4, 4, i+1)\n",
    "    ax.imshow(digits.data[i,:].reshape((8,8)), cmap='Greys')\n",
    "    ax.set_axis_off()"
   ]
  },
  {
   "cell_type": "markdown",
   "metadata": {},
   "source": [
    "`data` and `target` are 2 attributes of this dataset.\n",
    "It is possible to list the attributes and methods of class using `dir(object)`.\n",
    "\n",
    "**Question:**\n",
    "\n",
    "> Was there a simpler way to plot the example images?"
   ]
  },
  {
   "cell_type": "markdown",
   "metadata": {},
   "source": [
    "**Answer**:\n"
   ]
  },
  {
   "cell_type": "markdown",
   "metadata": {},
   "source": [
    "The goal here will be to learn to classify these images according to the digit they represent (therefore 10 classes).\n",
    "\n",
    "For evaluating the learnt classifier, it is **essential to use a TEST dataset INDEPENDANT from the one used for training**.\n",
    "Randomly separating a dataset into a `train` part and a `test` part can be done using [`train_test_split`](https://scikit-learn.org/stable/modules/generated/sklearn.model_selection.train_test_split.html)"
   ]
  },
  {
   "cell_type": "code",
   "execution_count": 5,
   "metadata": {},
   "outputs": [],
   "source": [
    "from sklearn.model_selection import train_test_split\n",
    "data_train, data_test, label_train, label_test = train_test_split(digits.data, digits.target, \n",
    "                                                                    test_size=0.3, random_state=84)"
   ]
  },
  {
   "cell_type": "code",
   "execution_count": 6,
   "metadata": {},
   "outputs": [
    {
     "data": {
      "text/plain": [
       "Text(0.5, 0, 'train labels')"
      ]
     },
     "execution_count": 6,
     "metadata": {},
     "output_type": "execute_result"
    },
    {
     "data": {
      "image/png": "[encoded data removed]",
      "text/plain": [
       "<Figure size 432x288 with 2 Axes>"
      ]
     },
     "metadata": {
      "needs_background": "light"
     },
     "output_type": "display_data"
    }
   ],
   "source": [
    "plt.subplot(1, 2, 1)\n",
    "plt.hist(label_test)\n",
    "plt.xlabel('test labels')\n",
    "plt.subplot(1, 2, 2)\n",
    "plt.hist(label_train)\n",
    "plt.xlabel('train labels')"
   ]
  },
  {
   "cell_type": "markdown",
   "metadata": {},
   "source": [
    "If the splitting is done totally randomly and the dataset is not large enough, this can produce uneven label repartition inside `test` and `train`. \n",
    "This can affect the performances of learnt models. For avoiding this, it is necessary to split tha dataset in a way that ensures in `train` and `test` the same proportions of labels as in the original full dataset: this is called _stratification_."
   ]
  },
  {
   "cell_type": "code",
   "execution_count": 7,
   "metadata": {},
   "outputs": [],
   "source": [
    "from sklearn.model_selection import train_test_split\n",
    "data_train, data_test, label_train, label_test = train_test_split(digits.data, digits.target, \n",
    "                                                                    test_size=0.3, random_state=84, stratify=digits.target)"
   ]
  },
  {
   "cell_type": "code",
   "execution_count": 8,
   "metadata": {},
   "outputs": [
    {
     "data": {
      "text/plain": [
       "Text(0.5, 0, 'train labels')"
      ]
     },
     "execution_count": 8,
     "metadata": {},
     "output_type": "execute_result"
    },
    {
     "data": {
      "image/png": "[encoded data removed]",
      "text/plain": [
       "<Figure size 432x288 with 2 Axes>"
      ]
     },
     "metadata": {
      "needs_background": "light"
     },
     "output_type": "display_data"
    }
   ],
   "source": [
    "plt.subplot(1, 2, 1)\n",
    "plt.hist(label_test)\n",
    "plt.xlabel('test labels')\n",
    "plt.subplot(1, 2, 2)\n",
    "plt.hist(label_train)\n",
    "plt.xlabel('train labels')"
   ]
  },
  {
   "cell_type": "markdown",
   "metadata": {},
   "source": [
    "# 3. Training of a classifier"
   ]
  },
  {
   "cell_type": "markdown",
   "metadata": {},
   "source": [
    "We can now train a model on the training set (`data_train`, `label_train`), and then evaluate it on the test dataset (`data_test`, `label_test`).\n",
    "\n",
    "In sklearn, all models are implemented as subclasses of `BaseEstimator`.\n",
    "They are all used in the same manner, in the 3 following steps:\n",
    "\n",
    "* Instantiate the model `model(**kwargs)`\n",
    "* Learn the model on a training set with the `fit` method: `model.fit(X=data, y=ground_truth)`.\n",
    "* Use and evaluate the trained model with `predict` and `score` methods. For example: `model.predict(X=data_test)`\n",
    "\n",
    "Reminder: `dir(object)` can be used to list the available methods and attributes, and `help(object.method)` displays the documentation of the corresponding method."
   ]
  },
  {
   "cell_type": "markdown",
   "metadata": {},
   "source": [
    "### Assignment 1: Instantiate, train, and test a 5-Nearest-Neighbors classifier on the digits dataset"
   ]
  },
  {
   "cell_type": "code",
   "execution_count": 9,
   "metadata": {},
   "outputs": [],
   "source": [
    "from sklearn.neighbors import KNeighborsClassifier\n",
    "\n",
    "## Instantiate, train, and test a 5-nearest-neighbors (5-NN) classifier.\n",
    "\n"
   ]
  },
  {
   "cell_type": "markdown",
   "metadata": {},
   "source": [
    "Now, look in more details at some examples of successes and failures of the obtained 5-NN classifier "
   ]
  },
  {
   "cell_type": "code",
   "execution_count": 10,
   "metadata": {
    "scrolled": false
   },
   "outputs": [
    {
     "ename": "SyntaxError",
     "evalue": "invalid syntax (Temp/ipykernel_13764/322366827.py, line 3)",
     "output_type": "error",
     "traceback": [
      "\u001b[1;36m  File \u001b[1;32m\"C:\\Users\\fabien\\AppData\\Local\\Temp/ipykernel_13764/322366827.py\"\u001b[1;36m, line \u001b[1;32m3\u001b[0m\n\u001b[1;33m    preds =\u001b[0m\n\u001b[1;37m            ^\u001b[0m\n\u001b[1;31mSyntaxError\u001b[0m\u001b[1;31m:\u001b[0m invalid syntax\n"
     ]
    }
   ],
   "source": [
    "np.random.seed(84)\n",
    "## Instantiate `preds` with the predictions of the 5-NN classifier on the test set\n",
    "preds = \n",
    "\n",
    "success = np.array(preds) == np.array(label_test)   \n",
    "\n",
    "# Some example of correct predictions:\n",
    "data_s, pred_s, label_s =data_test[success,:], preds[success], label_test[success]\n",
    "sample = np.random.choice(len(pred_s), size=16) # Echantillon aléatoire de 16 succès\n",
    "plt.figure(figsize=(7, 7))\n",
    "for i in range(16):\n",
    "    ax = plt.subplot(4, 4, i+1)\n",
    "    pred, ground_truth = pred_s[sample][i], label_s[sample][i]\n",
    "    ax.imshow(data_s[sample,:][i,:].reshape((8,8)), cmap='Greys')\n",
    "    ax.set_title('Pred: {}, Label: {}'.format(pred, ground_truth), color='b')\n",
    "    ax.set_axis_off()\n",
    "\n",
    "# Some example of FALSE predictions:\n",
    "data_f, pred_f, label_f =data_test[~success,:], preds[~success], label_test[~success]\n",
    "sample = np.random.choice(len(pred_f),size=16)\n",
    "plt.figure(figsize=(7, 7))\n",
    "for i in range(16):\n",
    "    ax = plt.subplot(4, 4, i+1)\n",
    "    pred, ground_truth = pred_f[sample][i], label_f[sample][i]\n",
    "    ax.imshow(data_f[sample,:][i,:].reshape((8,8)), cmap='Greys')\n",
    "    ax.set_title('Pred: {}, Label: {}'.format(pred, ground_truth), color='r')\n",
    "    ax.set_axis_off()"
   ]
  },
  {
   "cell_type": "markdown",
   "metadata": {},
   "source": [
    "### Assignment 2: Train and evaluate a regularized logistic regression"
   ]
  },
  {
   "cell_type": "markdown",
   "metadata": {},
   "source": [
    "It is possible to create to create _execution pipelines_ using `sklearn.pipeline.Pipeline`.\n",
    "As any other model, a _pipeline_ has `fit`, `predict`, (etc...), methods.\n",
    "\n",
    "Now let's implement a regularized logistic regression, using regularization parameter $\\frac{1}{C} = \\frac{1}{2}$."
   ]
  },
  {
   "cell_type": "code",
   "execution_count": null,
   "metadata": {},
   "outputs": [],
   "source": [
    "from sklearn.linear_model import LogisticRegression\n",
    "from sklearn.preprocessing import StandardScaler\n",
    "from sklearn.pipeline import Pipeline\n",
    "\n",
    "C = 2\n",
    "penalty='l2'\n",
    "lreg = LogisticRegression(penalty=penalty, C=C, max_iter=200)\n",
    "pip = Pipeline([('scaler', StandardScaler()), ('lreg', lreg)])\n",
    "\n",
    "# Train and test the regularized logistic regression (preceded by a normalization of input data):\n",
    "\n"
   ]
  },
  {
   "cell_type": "markdown",
   "metadata": {},
   "source": [
    "# 4. Evaluation of a classifier\n",
    "\n",
    "All sklearn classifiers have a `score` method, but it computes only the **average** `accuracy` on a dataset. This is not sufficiently detailed, as it could hide a quasi-perfect accuracy on some classes combined with very poor accuracy on other classes. \n",
    "\n",
    "Many other metrics available for evaluation of classifiers, as well as for other tasks such as regression or clustering.\n",
    "In order to quantitatively evaluate the detailed performances of a model, the [`metrics`](https://scikit-learn.org/stable/modules/model_evaluation.html) module of sklearn can be used.\n",
    "It contains several useful pre-implemented metrics: [`accuracy`](https://scikit-learn.org/stable/modules/generated/sklearn.metrics.accuracy_score.html#sklearn.metrics.accuracy_score), [`f1_score`](https://scikit-learn.org/stable/modules/generated/sklearn.metrics.f1_score.html#sklearn.metrics.f1_score), [`auc_roc`](https://scikit-learn.org/stable/modules/generated/sklearn.metrics.roc_auc_score.html#sklearn.metrics.roc_auc_score).\n",
    "\n",
    "\n"
   ]
  },
  {
   "cell_type": "markdown",
   "metadata": {},
   "source": [
    "## Metrics"
   ]
  },
  {
   "cell_type": "code",
   "execution_count": null,
   "metadata": {
    "scrolled": true
   },
   "outputs": [],
   "source": [
    "from sklearn import metrics\n",
    "acc = metrics.accuracy_score(y_true=label_test, y_pred=preds)\n",
    "f1_weighted = metrics.f1_score(label_test, preds, average='weighted')\n",
    "print('Accuracy : {}, f1 : {}'.format(acc, f1_weighted))"
   ]
  },
  {
   "cell_type": "markdown",
   "metadata": {},
   "source": [
    "The classification report provides a synthetic view of the performances of a model."
   ]
  },
  {
   "cell_type": "code",
   "execution_count": null,
   "metadata": {},
   "outputs": [],
   "source": [
    "report = metrics.classification_report(y_true=label_test, y_pred=preds)\n",
    "print(report)\n",
    "\n",
    "## Il est possible de générer un dictionnaire des performances :\n",
    "## report_dict = metrics.classification_report(y_true=label_test, y_pred=preds, output_dict=True)\n",
    "## On accède alors aux performances concernant le label 0 par report_dict['0']."
   ]
  },
  {
   "cell_type": "markdown",
   "metadata": {},
   "source": [
    "## Confusion matrix"
   ]
  },
  {
   "cell_type": "markdown",
   "metadata": {},
   "source": [
    "Prediction performances of a classifier can be visualized with a _confusion matrix_."
   ]
  },
  {
   "cell_type": "code",
   "execution_count": null,
   "metadata": {},
   "outputs": [],
   "source": [
    "import seaborn as sns\n",
    "cm = metrics.confusion_matrix(y_true=label_test, y_pred=preds)\n",
    "ax = sns.heatmap(cm, cmap='coolwarm', annot=cm)\n",
    "ax.set_xlabel('True label')\n",
    "ax.set_ylabel('Predicted label')\n",
    "plt.show()"
   ]
  },
  {
   "cell_type": "markdown",
   "metadata": {},
   "source": [
    "### Assignment 3: Plot the confusion matrix of the regularized logistic regression"
   ]
  },
  {
   "cell_type": "code",
   "execution_count": null,
   "metadata": {},
   "outputs": [],
   "source": [
    "# Plot the confusion matrix of the regularized logistic regression\n",
    "\n",
    "\n"
   ]
  },
  {
   "cell_type": "markdown",
   "metadata": {},
   "source": [
    "# 5. Visualization of predictions"
   ]
  },
  {
   "cell_type": "markdown",
   "metadata": {},
   "source": [
    "Visualizing predictions in input space is difficult for input dimension > 2.\n",
    "One possible workaround is to use reduction dimension such as PCA, either directly on input space before training, or only in the visualization step (to avoid loosing information before training).\n",
    "Below, we illustrate the first case: we replace the input images (8x8 pixels) by the first 2 principal componants of the dataset. We then train a k-NN classifier on this reduced-dimension inputs, and can therefore easily plot predictions for any point in this reduced 2D input space:"
   ]
  },
  {
   "cell_type": "code",
   "execution_count": null,
   "metadata": {
    "scrolled": true
   },
   "outputs": [],
   "source": [
    "from sklearn.decomposition import PCA\n",
    "from sklearn.neighbors import KNeighborsClassifier\n",
    "from sklearn.linear_model import RidgeClassifier\n",
    "import matplotlib.patches as mpatches\n",
    "\n",
    "# We compute the first 2 PCA componants of the original dataset, and then project each example on this 2D space\n",
    "pca = PCA(n_components=2, whiten=True)\n",
    "X = pca.fit_transform(data_train)\n",
    "\n",
    "# We then train a 1-NN classifier on the projected dataset\n",
    "knnc = KNeighborsClassifier(n_neighbors=1)\n",
    "knnc.fit(X=X, y=label_train)\n",
    "\n",
    "## For visualizing the predictions of the 1-NN classifier, \n",
    "## we compute predictions on a rather dense set of points in the 2D space,\n",
    "## and color these points depending on the predicted class\n",
    "\n",
    "h = .02  # Defines the grid resolution\n",
    "x_min, x_max = X[:, 0].min() - 1, X[:, 0].max() + 1\n",
    "y_min, y_max = X[:, 1].min() - 1, X[:, 1].max() + 1\n",
    "xx, yy = np.meshgrid(np.arange(x_min, x_max, h),\n",
    "                     np.arange(y_min, y_max, h))\n",
    "cmap = plt.cm.get_cmap('magma', 10)\n",
    "Z = knnc.predict(np.c_[xx.ravel(), yy.ravel()]) # Prédiction d'un ensemble de points du plan des composantes principales.\n",
    "Z = Z.reshape(xx.shape)\n",
    "plt.figure(figsize=(10,10))\n",
    "im=plt.pcolormesh(xx, yy, Z, cmap='magma',alpha=.8)\n",
    "plt.legend([mpatches.Patch(color=cmap(l)) for l in range(10)], [str(l) for l in range(10)])\n",
    "\n",
    "# On affiche un échantillon des points du jeu d'entrainement\n",
    "sample = np.random.choice(X.shape[0], size=250)\n",
    "plt.scatter(X[sample, 0], X[sample, 1], c=label_train[sample], cmap='magma', edgecolor='k', s=20)\n",
    "plt.xlim(xx.min(), xx.max())\n",
    "plt.ylim(yy.min(), yy.max())"
   ]
  },
  {
   "cell_type": "markdown",
   "metadata": {},
   "source": [
    "We can now also visualize the effect of the `n_neighbors` hyper-parameter on predictions of the k-NN classifier obtained:"
   ]
  },
  {
   "cell_type": "code",
   "execution_count": null,
   "metadata": {
    "scrolled": false
   },
   "outputs": [],
   "source": [
    "plt.figure(figsize=(15,15))\n",
    "\n",
    "# On va afficher les prédictions du plan des composantes principales en fonction de n_neighbors.\n",
    "for o,k in enumerate([1, 5, 20, 50], 1):\n",
    "    knnc = KNeighborsClassifier(n_neighbors=k)\n",
    "    knnc.fit(X=X, y=label_train)\n",
    "    Z = knnc.predict(np.c_[xx.ravel(), yy.ravel()])\n",
    "    Z = Z.reshape(xx.shape)\n",
    "    ax = plt.subplot(2, 2, o)\n",
    "    ax.pcolormesh(xx, yy, Z, cmap='magma',alpha=.8, shading='auto')\n",
    "    ax.set_title('k = {}'.format(k))\n",
    "    ax.set_axis_off()"
   ]
  },
  {
   "cell_type": "markdown",
   "metadata": {},
   "source": [
    "**Question:**\n",
    "\n",
    "> What is the hypothesis class of the 1-Nearest-Neighbor?"
   ]
  },
  {
   "cell_type": "markdown",
   "metadata": {},
   "source": [
    "**Answer:**"
   ]
  },
  {
   "cell_type": "markdown",
   "metadata": {},
   "source": [
    "### Assignment 4: Visualize the impact of the $C$ regularization hyper-parameter on predictions obtained with regularized logistic regression ."
   ]
  },
  {
   "cell_type": "code",
   "execution_count": null,
   "metadata": {},
   "outputs": [],
   "source": [
    "plt.figure(figsize=(15,15))\n",
    "\n",
    "# Train the regularized logistic regression on the 2D-PCA input space, for several values of C\n",
    "#  and plot the corresponding predictions \n"
   ]
  },
  {
   "cell_type": "markdown",
   "metadata": {},
   "source": [
    "**Question:**\n",
    "> What do you observe? "
   ]
  },
  {
   "cell_type": "markdown",
   "metadata": {},
   "source": [
    "**Answer:**"
   ]
  },
  {
   "cell_type": "markdown",
   "metadata": {},
   "source": [
    "# 6. Model selection"
   ]
  },
  {
   "cell_type": "markdown",
   "metadata": {},
   "source": [
    "For all types of Machine-Learning models, there is nearly always one or several hyper-parameters that can significantly impact the performance of the trained model. Just like `n_neighbors` for the k-Nearest-Neighbors model, or the `C` hyper-parameter for regularized logistic regression.\n",
    "\n",
    "It is therefore essential not only to visually inspect the impact as above, but to actually find the BEST VALUES for these crucial hyper-parameters. This can be done for instance using a `grid search`: brute-force test of a list (or `grid` if there are several hyper-parameters) of values. The ultimate goal is to maximize the generalization performance, but the selection of the best value should NOT be done directly on the test set, in order to avoid overfitting of hyper-parameter values. The model selection therefore has to be done either on a 3rd dataset dedicated to validation, or by using `cross-validation`:\n",
    "\n",
    "![](crossval.001.jpeg)\n",
    "\n",
    "In practice in sklearn, model selection using cross-validation is typically done using [`sklearn.model_selection.GridSearchCV`](https://scikit-learn.org/stable/modules/generated/sklearn.model_selection.GridSearchCV.html)\n",
    "`GridSearchCV` works as all estimators of sklearn: it has first to be instantiated, and then it is run by using its `fit` method.\n",
    "\n",
    "The main parameters of GridSearchCV are:\n",
    "\n",
    "* `estimator` : the classification model used\n",
    "* `param_grid` : dictionnary of the hyper-parameter values to be tested. The keys of this dictionnary are of type `str`, and correspond to the name of the parameter to be used for instatiating the `estimator`\n",
    "* `scoring`: defines which metric is used to select the best values for hyper-parameters.\n",
    "* `cv`: define sthe number of folds for the cross-validation\n",
    "\n",
    "Finding good values for hyper-parameters is a kind of learning (in the sense of tuning a parameter for optimizing some criteria). For this reason, model selection has to be performed on a VALIDATION set different from the final TEST set which should be used only for estimating future generalization performance of the final model. In case validation is done by cross-validation rather than by a separate validation set, _the cross-validation must therfore be performed **on the `data_train`**_.\n",
    "\n",
    "Once the `GridSearchCV` is fitted, its results can be accessed through its `.cv_results_`attribute. And its methods `score` and `predict` are respctively evaluating and using the best model found."
   ]
  },
  {
   "cell_type": "markdown",
   "metadata": {},
   "source": [
    "### Assignment 5: Find the best value for the `n_neighbors` hyper-parameter of k-NN model on digits dataset"
   ]
  },
  {
   "cell_type": "code",
   "execution_count": null,
   "metadata": {},
   "outputs": [],
   "source": [
    "from sklearn.model_selection import GridSearchCV\n",
    "\n",
    "## Using GridSearchCV, find the best value of hyper-parameter n_neighbors for k-NearestNeighbors applied to digits\n",
    "##   \n"
   ]
  },
  {
   "cell_type": "code",
   "execution_count": null,
   "metadata": {},
   "outputs": [],
   "source": [
    "## Display or plot in some way the influence of n_neighbors hyper-parameter on the k-NN model performance \n"
   ]
  },
  {
   "cell_type": "markdown",
   "metadata": {},
   "source": [
    "### Assignment 6: Find the best value for the `C` hyper-parameter of regularized logistic regression on digits dataset"
   ]
  },
  {
   "cell_type": "code",
   "execution_count": null,
   "metadata": {},
   "outputs": [],
   "source": [
    "from sklearn.model_selection import GridSearchCV\n",
    "stsc = StandardScaler()\n",
    "data_train = stsc.fit_transform(data_train)\n",
    "\n",
    "## Find the best value for hyper-parameter C of regularized logistic regression\n"
   ]
  },
  {
   "cell_type": "code",
   "execution_count": null,
   "metadata": {},
   "outputs": [],
   "source": [
    "## Display or plot in some way the influence on performances of C hyper-parameter for regularized logistic regression applied to digits\n",
    "\n"
   ]
  },
  {
   "cell_type": "markdown",
   "metadata": {},
   "source": [
    "**Questions:** \n",
    "> Explain the respective effects of these 2 hyper-parameters on the training outcome"
   ]
  },
  {
   "cell_type": "markdown",
   "metadata": {},
   "source": [
    "**Answer**:"
   ]
  },
  {
   "cell_type": "markdown",
   "metadata": {},
   "source": [
    "### Assignment 7: Determine which model should better be used on the digits dataset, between k-NN and regularized logistic regression "
   ]
  },
  {
   "cell_type": "markdown",
   "metadata": {},
   "source": [
    "**Questions:**\n",
    "\n",
    "> How should we do to compare these 2 model types and select one? \\\n",
    "> How should we evaluate the final result of this best model?"
   ]
  },
  {
   "cell_type": "markdown",
   "metadata": {},
   "source": [
    "**Answer:**"
   ]
  },
  {
   "cell_type": "code",
   "execution_count": null,
   "metadata": {},
   "outputs": [],
   "source": [
    "# Insert code below for selection and final evaluation"
   ]
  },
  {
   "cell_type": "code",
   "execution_count": null,
   "metadata": {},
   "outputs": [],
   "source": []
  }
 ],
 "metadata": {
  "kernelspec": {
   "display_name": "Python 3 (ipykernel)",
   "language": "python",
   "name": "python3"
  },
  "language_info": {
   "codemirror_mode": {
    "name": "ipython",
    "version": 3
   },
   "file_extension": ".py",
   "mimetype": "text/x-python",
   "name": "python",
   "nbconvert_exporter": "python",
   "pygments_lexer": "ipython3",
   "version": "3.8.10"
  }
 },
 "nbformat": 4,
 "nbformat_minor": 4
}
