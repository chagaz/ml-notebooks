{
 "cells": [
  {
   "cell_type": "markdown",
   "metadata": {},
   "source": [
    "# Feature selection in several related datasets with the multitask lasso"
   ]
  },
  {
   "cell_type": "markdown",
   "metadata": {},
   "source": [
    "In this notebook we consider a mulitask setting in which each task has its own set of samples (and conversely, each sample has a single label).\n",
    "\n",
    "This problem can be turned into a sparse group lasso problem by creating a new design matrix and coupling all copies of the same features. "
   ]
  },
  {
   "cell_type": "markdown",
   "metadata": {},
   "source": [
    "Data: \n",
    "* $k$ tasks, $n_r$ samples per task\n",
    "* same features $j=1, \\dots, p$\n",
    "* data $(X^1, y^1), \\dots, (X^k, y^k)$ with $X^r \\in \\mathbb{R}^{n_r \\times p}$ and $y^r \\in \\{0, 1\\}^{n_r}$\n",
    "\n",
    "Multitask lasso:\n",
    "$\\min_{W \\in \\mathbb{R}^{p \\times k}, b \\in \\mathbb{R}^k}\n",
    "\\sum_{r=1}^k L(y_i^r, W_{.r}^\\top x_i^r + b_r) + \\lambda \n",
    "\\sum_{j=1}^p \\lvert\\lvert W_{j.} \\lvert\\lvert_2$\n",
    "\n",
    "Reformulation:\n",
    "* $n = \\sum_{r=1}^k n_r$\n",
    "* $X \\in \\mathbb{R}^{n \\times (kp)}$ block-diagonal, with the $X^r$ forming the blocks:\n",
    "$X = \\begin{bmatrix}\n",
    "        X^1 & 0 & \\dots & 0 \\\\\n",
    "        0 & X^2 & \\dots & 0 \\\\\n",
    "        \\vdots & \\vdots & \\vdots & \\vdots \\\\\n",
    "        0 & 0 & 0 & X^k\n",
    "    \\end{bmatrix}$\n",
    "* $y \\in \\{0, 1\\}^n$: $y = \\begin{pmatrix}\n",
    "        y^1 \\\\\n",
    "        y^2 \\\\\n",
    "        \\vdots \\\\\n",
    "        y^n\n",
    "        \\end{pmatrix}$\n",
    "\n",
    "This can now be solved as a \\textbf{single-task group lasso} with $p$ groups of $k$ features each (group $j$ is made of $k$ copies of the $j$-th feature):\n",
    "$ \\min_{w \\in \\mathbb{R}^{kp}, b \\in \\mathbb{R}}\n",
    "\\sum_{i=1}^n L(y_i, w^\\top \\tilde{x}_i + b) + \\lambda \n",
    "\\sum_{j=1}^p \\lvert\\lvert w_j \\lvert\\lvert_2$\n",
    " where\n",
    "* $\\tilde{x}_i$ is the $i$-th line of the large matrix $X$ defined above. $x_i \\in \\mathbb{R}^{kp}$, with $(k-1)p$ zeros and the rest is the actual features of sample $i$.\n",
    "* $w = (w_1, w_2, \\dots, w_p)$ and each $w_j \\in \\mathbb{R}^k$. The $k$ components of $w_j$ are the coefficients of feature $j$ in each of the $k$ tasks.\n",
    "\n",
    "This works because the part of $w$ that is not about task $r$ will be multiplied by 0 so whatever values $w$ takes on the other tasks won't affect the loss."
   ]
  },
  {
   "cell_type": "code",
   "execution_count": 1,
   "metadata": {},
   "outputs": [
    {
     "name": "stdout",
     "output_type": "stream",
     "text": [
      "Populating the interactive namespace from numpy and matplotlib\n"
     ]
    }
   ],
   "source": [
    "%pylab inline"
   ]
  },
  {
   "cell_type": "markdown",
   "metadata": {},
   "source": [
    "# 1. Regression "
   ]
  },
  {
   "cell_type": "markdown",
   "metadata": {},
   "source": [
    "## 1.1 Simulation data\n",
    "We have here a very simple simulation design (more samples than features, rather high signal-to-noise ration) to test possibilities."
   ]
  },
  {
   "cell_type": "code",
   "execution_count": null,
   "metadata": {},
   "outputs": [],
   "source": [
    "n_tasks = 3\n",
    "n_features = 20\n",
    "n_samples_per_task = [30, 30, 40]\n",
    "n_samples = np.sum(n_samples_per_task)\n",
    "\n",
    "n_causal_features = 5 # first n_causal_features have non-zero weights\n",
    "\n",
    "epsilon = 0.3 # noise level"
   ]
  },
  {
   "cell_type": "code",
   "execution_count": null,
   "metadata": {},
   "outputs": [],
   "source": [
    "causal_weights_per_task = np.zeros(shape=(n_tasks, n_features))\n",
    "\n",
    "for r in range(n_tasks):\n",
    "    causal_weights_per_task[r, :n_causal_features] = np.random.random(size=(n_causal_features,))"
   ]
  },
  {
   "cell_type": "code",
   "execution_count": null,
   "metadata": {},
   "outputs": [],
   "source": [
    "for r in range(n_tasks):\n",
    "    plt.scatter(np.arange(n_features), causal_weights_per_task[r, :], label=('task %s' % r))\n",
    "plt.legend()"
   ]
  },
  {
   "cell_type": "code",
   "execution_count": null,
   "metadata": {},
   "outputs": [],
   "source": [
    "X = np.zeros((n_samples, n_features))\n",
    "y = np.zeros((n_samples, ))\n",
    "start_idx = 0\n",
    "end_idx = 0 \n",
    "for r in range(n_tasks):\n",
    "    end_idx += n_samples_per_task[r]\n",
    "    X[start_idx:end_idx, :] = np.random.random(size=(n_samples_per_task[r], n_features))    \n",
    "    y[start_idx:end_idx] = np.dot(X[start_idx:end_idx, :], causal_weights_per_task[r]) + \\\n",
    "        epsilon * np.random.random(size=(n_samples_per_task[r], )) # noise\n",
    "    start_idx += n_samples_per_task[r]"
   ]
  },
  {
   "cell_type": "code",
   "execution_count": null,
   "metadata": {},
   "outputs": [],
   "source": [
    "start_idx = 0\n",
    "end_idx = 0 \n",
    "for r in range(n_tasks):\n",
    "    end_idx += n_samples_per_task[r]\n",
    "    plt.scatter((np.dot(X[start_idx:end_idx, :], causal_weights_per_task[r])), y[start_idx:end_idx], label=('task %d' % r))\n",
    "    start_idx += n_samples_per_task[r]\n",
    "t = plt.title(\"Signal-to-noise ratio\")\n",
    "t = plt.xlabel(r\"Without noise ($\\langle w, x\\rangle$)\")\n",
    "t = plt.ylabel(r\"With noise ($y = \\langle w, x\\rangle + \\epsilon$)\")"
   ]
  },
  {
   "cell_type": "markdown",
   "metadata": {},
   "source": [
    "## 1.2 Separate single-task lassos on each task with sklearn\n",
    "Let's consider our 3 tasks separately and run a lasso."
   ]
  },
  {
   "cell_type": "code",
   "execution_count": null,
   "metadata": {},
   "outputs": [],
   "source": [
    "from sklearn import linear_model"
   ]
  },
  {
   "cell_type": "code",
   "execution_count": null,
   "metadata": {},
   "outputs": [],
   "source": [
    "single_task_lasso_coefs = np.zeros(shape=(n_tasks, n_features))"
   ]
  },
  {
   "cell_type": "code",
   "execution_count": null,
   "metadata": {},
   "outputs": [],
   "source": [
    "from sklearn import model_selection"
   ]
  },
  {
   "cell_type": "code",
   "execution_count": null,
   "metadata": {},
   "outputs": [],
   "source": [
    "param_grid = {'alpha': np.logspace(-5, -2, num=100)}"
   ]
  },
  {
   "cell_type": "code",
   "execution_count": null,
   "metadata": {},
   "outputs": [],
   "source": [
    "lasso_gs = model_selection.GridSearchCV(linear_model.Lasso(), param_grid)"
   ]
  },
  {
   "cell_type": "code",
   "execution_count": null,
   "metadata": {},
   "outputs": [],
   "source": [
    "single_task_lasso_coefs = np.zeros(shape=(n_tasks, n_features))"
   ]
  },
  {
   "cell_type": "code",
   "execution_count": null,
   "metadata": {},
   "outputs": [],
   "source": [
    "start_idx = 0\n",
    "end_idx = 0 \n",
    "for r in range(n_tasks):\n",
    "    end_idx += n_samples_per_task[r]\n",
    "    # fit lasso\n",
    "    lasso_gs.fit(X[start_idx:end_idx, :], y[start_idx:end_idx])\n",
    "    \n",
    "    # obtain coefficients\n",
    "    single_task_lasso_coefs[r, :] = lasso_gs.best_estimator_.coef_\n",
    "    \n",
    "    # obtain lambda\n",
    "    print(\"Best lambda for task %d: %s\" % (r, lasso_gs.best_params_))\n",
    "    \n",
    "    start_idx += n_samples_per_task[r]"
   ]
  },
  {
   "cell_type": "code",
   "execution_count": null,
   "metadata": {},
   "outputs": [],
   "source": [
    "fig = plt.figure(figsize=(11, 3))\n",
    "for r in range(n_tasks):\n",
    "    # create a subplot in the (r+1) position of a 1x3 grid\n",
    "    ax = fig.add_subplot(1, 3, (r+1))\n",
    "    \n",
    "    plt.scatter(np.arange(n_features), causal_weights_per_task[r, :], marker='+', label='true weights')\n",
    "    \n",
    "    plt.scatter(np.arange(n_features), single_task_lasso_coefs[r, :], marker='x', label='predicted weights')\n",
    "    \n",
    "    plt.legend()\n",
    "    \n",
    "    ax.set_title(('task %s' % r))\n",
    "fig.tight_layout(pad=1.0)"
   ]
  },
  {
   "cell_type": "markdown",
   "metadata": {},
   "source": [
    "## 1.3 Separate single-task lassos on each task with spams\n",
    "Here the goal is to make sure to understand spams's syntax on the same problem as above."
   ]
  },
  {
   "cell_type": "code",
   "execution_count": null,
   "metadata": {},
   "outputs": [],
   "source": [
    "import spams"
   ]
  },
  {
   "cell_type": "markdown",
   "metadata": {},
   "source": [
    "### With a fixed value of lambda, on the first task"
   ]
  },
  {
   "cell_type": "code",
   "execution_count": null,
   "metadata": {},
   "outputs": [],
   "source": [
    "r = 0\n",
    "start_idx = 0\n",
    "end_idx = 0 \n",
    "end_idx += n_samples_per_task[r]\n",
    "X_asfa = np.asfortranarray(X[start_idx:end_idx, :])\n",
    "y_asfa = np.asfortranarray(y[start_idx:end_idx].reshape((n_samples_per_task[r], 1)))\n",
    "w_init = np.zeros((n_features, 1), order=\"F\")\n",
    "print(X_asfa.shape, y_asfa.shape, w_init.shape)\n",
    "w1 = spams.fistaFlat(y_asfa, X_asfa, W0=w_init, \n",
    "                    loss='square', regul='l1', \n",
    "                    lambda1=10)\n",
    "w2 = spams.fistaFlat(y_asfa, X_asfa, W0=w_init, \n",
    "                    loss='square', regul='l1', \n",
    "                    lambda1=1e-3)"
   ]
  },
  {
   "cell_type": "code",
   "execution_count": null,
   "metadata": {},
   "outputs": [],
   "source": [
    "w1 = w1.reshape((w1.shape[0], ))\n",
    "w2 = w2.reshape((w2.shape[0], ))"
   ]
  },
  {
   "cell_type": "code",
   "execution_count": null,
   "metadata": {},
   "outputs": [],
   "source": [
    "plt.scatter(np.arange(n_features), causal_weights_per_task[r, :], marker='+', label='true features')\n",
    "plt.scatter(np.arange(n_features), w1, marker='x', label='predicted features, lambda=10.')\n",
    "plt.scatter(np.arange(n_features), w2, marker='x', label='predicted features, lambda=1e-3')\n",
    "plt.legend()   "
   ]
  },
  {
   "cell_type": "markdown",
   "metadata": {},
   "source": [
    "### Turn it into a scikit-learn estimator\n",
    "In order to use `sklearn.model_selection` we need to turn this into an estimator. \n",
    "Help from https://scikit-learn.org/stable/developers/develop.html and https://sklearn-template.readthedocs.io/en/latest/user_guide.html"
   ]
  },
  {
   "cell_type": "code",
   "execution_count": null,
   "metadata": {},
   "outputs": [],
   "source": [
    "from sklearn import base\n",
    "from sklearn.utils import validation "
   ]
  },
  {
   "cell_type": "code",
   "execution_count": null,
   "metadata": {},
   "outputs": [],
   "source": [
    "from sklearn.utils import estimator_checks"
   ]
  },
  {
   "cell_type": "code",
   "execution_count": null,
   "metadata": {},
   "outputs": [],
   "source": [
    "class MySpamsLasso(base.BaseEstimator, base.RegressorMixin):\n",
    "    \"\"\"\n",
    "    This class implements a lasso (l1-regularized linear regression) that is fitted using SPAMS.\n",
    "    \"\"\"\n",
    "    def __init__(self, lambda1=1.):\n",
    "        self.lambda1 = lambda1\n",
    "                 \n",
    "    def fit(self, X, y):     \n",
    "        # Check that X and y have correct shape\n",
    "        X, y = validation.check_X_y(X, y)\n",
    "        \n",
    "        self.X_ = X\n",
    "        self.y_ = y     \n",
    "                \n",
    "        # Fitting \n",
    "        X_asfa = np.asfortranarray(self.X_)\n",
    "        y_asfa = np.asfortranarray(self.y_.reshape((self.y_.shape[0], 1)))\n",
    "        w_init = np.zeros((X_asfa.shape[1], 1), order=\"F\")\n",
    "\n",
    "        w = spams.fistaFlat(y_asfa, X_asfa, W0=w_init, lambda1=self.lambda1, regul='l1', loss='square')\n",
    "        self.coef_ = w.reshape((w.shape[0], ))\n",
    "\n",
    "        # Return the classifier\n",
    "        return self\n",
    "    \n",
    "    def predict(self, X):\n",
    "        # Check that fit has been called\n",
    "        validation.check_is_fitted(self) \n",
    "        \n",
    "        # Input validation\n",
    "        X = validation.check_array(X)\n",
    "        \n",
    "        # Prediction\n",
    "        return np.dot(X, self.coef_)"
   ]
  },
  {
   "cell_type": "code",
   "execution_count": null,
   "metadata": {},
   "outputs": [],
   "source": [
    "# estimator_checks.check_estimator(MySpamsLasso())"
   ]
  },
  {
   "cell_type": "markdown",
   "metadata": {},
   "source": [
    "### Using spams within scikit-learn"
   ]
  },
  {
   "cell_type": "code",
   "execution_count": null,
   "metadata": {},
   "outputs": [],
   "source": [
    "param_grid = {'lambda1': np.logspace(-2, 2, num=100)}"
   ]
  },
  {
   "cell_type": "code",
   "execution_count": null,
   "metadata": {},
   "outputs": [],
   "source": [
    "lasso_gs = model_selection.GridSearchCV(MySpamsLasso(), param_grid)"
   ]
  },
  {
   "cell_type": "code",
   "execution_count": null,
   "metadata": {},
   "outputs": [],
   "source": [
    "single_task_lasso_coefs = np.zeros(shape=(n_tasks, n_features))"
   ]
  },
  {
   "cell_type": "code",
   "execution_count": null,
   "metadata": {},
   "outputs": [],
   "source": [
    "start_idx = 0\n",
    "end_idx = 0 \n",
    "for r in range(n_tasks):\n",
    "    end_idx += n_samples_per_task[r]\n",
    "    # fit lasso\n",
    "    lasso_gs.fit(X[start_idx:end_idx, :], y[start_idx:end_idx])\n",
    "    \n",
    "    # obtain coefficients\n",
    "    single_task_lasso_coefs[r, :] = lasso_gs.best_estimator_.coef_\n",
    "    \n",
    "    # obtain lambda\n",
    "    print(\"Best lambda for task %d: %s\" % (r, lasso_gs.best_params_))\n",
    "    \n",
    "    start_idx += n_samples_per_task[r]"
   ]
  },
  {
   "cell_type": "code",
   "execution_count": null,
   "metadata": {},
   "outputs": [],
   "source": [
    "fig = plt.figure(figsize=(11, 3))\n",
    "for r in range(n_tasks):\n",
    "    # create a subplot in the (r+1) position of a 1x3 grid\n",
    "    ax = fig.add_subplot(1, 3, (r+1))\n",
    "    \n",
    "    plt.scatter(np.arange(n_features), causal_weights_per_task[r, :], marker='+', label='true features')\n",
    "    \n",
    "    plt.scatter(np.arange(n_features), single_task_lasso_coefs[r, :], marker='x', label='predicted features')\n",
    "    \n",
    "    plt.legend()\n",
    "    \n",
    "    ax.set_title(('task %s' % r))\n",
    "fig.tight_layout(pad=1.0)"
   ]
  },
  {
   "cell_type": "markdown",
   "metadata": {},
   "source": [
    "## 1.4 Turning the problem into a sparse group lasso problem\n",
    "Now we're ready to move to solving the 3 tasks together in a mulittask formulation."
   ]
  },
  {
   "cell_type": "markdown",
   "metadata": {},
   "source": [
    "### New design matrix"
   ]
  },
  {
   "cell_type": "code",
   "execution_count": null,
   "metadata": {},
   "outputs": [],
   "source": [
    "X_mt = np.zeros((n_samples, n_features*n_tasks))\n",
    "start_idx = 0\n",
    "end_idx = 0 \n",
    "for r in range(n_tasks):\n",
    "    end_idx += n_samples_per_task[r]\n",
    "    \n",
    "    X_mt[start_idx:end_idx, r*n_features:(r+1)*n_features] = X[start_idx:end_idx, :]\n",
    "    \n",
    "    start_idx += n_samples_per_task[r]"
   ]
  },
  {
   "cell_type": "code",
   "execution_count": null,
   "metadata": {},
   "outputs": [],
   "source": [
    "plt.imshow(X_mt, cmap='viridis', aspect='equal')\n",
    "plt.colorbar()"
   ]
  },
  {
   "cell_type": "markdown",
   "metadata": {},
   "source": [
    "### Group membership vector"
   ]
  },
  {
   "cell_type": "code",
   "execution_count": null,
   "metadata": {},
   "outputs": [],
   "source": [
    "groups = np.array([(1+x) for r in range(n_tasks) for x in np.arange(n_features)], dtype=np.int32)"
   ]
  },
  {
   "cell_type": "markdown",
   "metadata": {},
   "source": [
    "## 1.5 Using spams's group lasso (with fixed regularization parameters)"
   ]
  },
  {
   "cell_type": "code",
   "execution_count": null,
   "metadata": {},
   "outputs": [],
   "source": [
    "X_mt_FA = np.asfortranarray(X_mt)\n",
    "y_FA = np.asfortranarray(y.reshape(y.shape[0], 1))"
   ]
  },
  {
   "cell_type": "code",
   "execution_count": null,
   "metadata": {},
   "outputs": [],
   "source": [
    "w_initialization = np.zeros((X_mt_FA.shape[1], y_FA.shape[1]), order=\"F\")"
   ]
  },
  {
   "cell_type": "code",
   "execution_count": null,
   "metadata": {},
   "outputs": [],
   "source": [
    "print(X_mt_FA.shape, y_FA.shape, w_initialization.shape, groups.shape)"
   ]
  },
  {
   "cell_type": "code",
   "execution_count": null,
   "metadata": {},
   "outputs": [],
   "source": [
    "w = spams.fistaFlat(y_FA, X_mt_FA, W0=w_initialization, loss='square', regul='group-lasso-l2', groups=groups, lambda1=0.1)"
   ]
  },
  {
   "cell_type": "code",
   "execution_count": null,
   "metadata": {},
   "outputs": [],
   "source": [
    "fig = plt.figure(figsize=(11, 3))\n",
    "for r in range(n_tasks):\n",
    "    # create a subplot in the (r+1) position of a 1x3 grid\n",
    "    ax = fig.add_subplot(1, 3, (r+1))\n",
    "    \n",
    "    plt.scatter(np.arange(n_features), causal_weights_per_task[r, :], marker='+', label='true weights')\n",
    "    \n",
    "    plt.scatter(np.arange(n_features), w[r*n_features:(r+1)*n_features], marker='x', label='predicted weights')\n",
    "    \n",
    "    plt.legend()\n",
    "    \n",
    "    ax.set_title(('task %s' % r))\n",
    "fig.tight_layout(pad=1.0)"
   ]
  },
  {
   "cell_type": "markdown",
   "metadata": {},
   "source": [
    "### Using a sparse design matrix"
   ]
  },
  {
   "cell_type": "code",
   "execution_count": null,
   "metadata": {},
   "outputs": [],
   "source": [
    "from scipy import sparse"
   ]
  },
  {
   "cell_type": "code",
   "execution_count": null,
   "metadata": {},
   "outputs": [],
   "source": [
    "X_sparse = sparse.csc_matrix(X_mt)"
   ]
  },
  {
   "cell_type": "code",
   "execution_count": null,
   "metadata": {},
   "outputs": [],
   "source": [
    "w = spams.fistaFlat(y_FA, X_sparse, W0=w_initialization, loss='square', regul='group-lasso-l2', groups=groups, lambda1=0.1)"
   ]
  },
  {
   "cell_type": "code",
   "execution_count": null,
   "metadata": {},
   "outputs": [],
   "source": [
    "fig = plt.figure(figsize=(11, 3))\n",
    "for r in range(n_tasks):\n",
    "    # create a subplot in the (r+1) position of a 1x3 grid\n",
    "    ax = fig.add_subplot(1, 3, (r+1))\n",
    "    \n",
    "    plt.scatter(np.arange(n_features), causal_weights_per_task[r, :], marker='+', label='true weights')\n",
    "    \n",
    "    plt.scatter(np.arange(n_features), w[r*n_features:(r+1)*n_features], marker='x', label='predicted weights')\n",
    "    \n",
    "    plt.legend()\n",
    "    \n",
    "    ax.set_title(('task %s' % r))\n",
    "fig.tight_layout(pad=1.0)"
   ]
  },
  {
   "cell_type": "markdown",
   "metadata": {},
   "source": [
    "### Turn it into a scikit-learn estimator"
   ]
  },
  {
   "cell_type": "code",
   "execution_count": null,
   "metadata": {},
   "outputs": [],
   "source": [
    "class MySpamsGroupLasso(base.BaseEstimator, base.RegressorMixin):\n",
    "    \"\"\"\n",
    "    This class implements a group lasso that is fitted using SPAMS.\n",
    "    \"\"\"\n",
    "    def __init__(self, lambda1=1., groups=None):\n",
    "        self.lambda1 = lambda1\n",
    "        self.groups = groups\n",
    "                 \n",
    "    def fit(self, X, y):     \n",
    "        # Check that X and y have correct shape\n",
    "        X, y = validation.check_X_y(X, y)\n",
    "        \n",
    "        self.X_ = X\n",
    "        self.y_ = y     \n",
    "                \n",
    "        # Fitting \n",
    "        #X_asfa = np.asfortranarray(self.X_)\n",
    "        X_sparse = sparse.csc_matrix(self.X_)        \n",
    "        y_asfa = np.asfortranarray(self.y_.reshape((self.y_.shape[0], 1)))\n",
    "        w_init = np.zeros((X_sparse.shape[1], 1), order=\"F\")\n",
    "        w = spams.fistaFlat(y_asfa, X_sparse, W0=w_init, loss='square', regul='group-lasso-l2', groups=self.groups, \n",
    "                            lambda1=self.lambda1)\n",
    "        self.coef_ = w.reshape((w.shape[0], ))\n",
    "\n",
    "        # Return the classifier\n",
    "        return self\n",
    "    \n",
    "    def predict(self, X):\n",
    "        # Check that fit has been called\n",
    "        validation.check_is_fitted(self) \n",
    "        \n",
    "        # Input validation\n",
    "        X = validation.check_array(X)\n",
    "        \n",
    "        # Prediction\n",
    "        return np.dot(X, self.coef_)"
   ]
  },
  {
   "cell_type": "markdown",
   "metadata": {},
   "source": [
    "### Using spams within scikit-learn"
   ]
  },
  {
   "cell_type": "code",
   "execution_count": null,
   "metadata": {},
   "outputs": [],
   "source": [
    "param_grid = {'lambda1': np.logspace(-2, 2, num=100)}"
   ]
  },
  {
   "cell_type": "code",
   "execution_count": null,
   "metadata": {},
   "outputs": [],
   "source": [
    "glasso_gs = model_selection.GridSearchCV(MySpamsGroupLasso(groups=groups), param_grid)"
   ]
  },
  {
   "cell_type": "code",
   "execution_count": null,
   "metadata": {},
   "outputs": [],
   "source": [
    "groups.shape, X_mt.shape"
   ]
  },
  {
   "cell_type": "code",
   "execution_count": null,
   "metadata": {},
   "outputs": [],
   "source": [
    "glasso_gs.fit(X_mt, y)\n",
    "    \n",
    "# obtain coefficients\n",
    "multi_task_lasso_coefs = glasso_gs.best_estimator_.coef_\n",
    "    \n",
    "# obtain lambda\n",
    "print(\"Best lambda: %s\" % glasso_gs.best_params_)"
   ]
  },
  {
   "cell_type": "code",
   "execution_count": null,
   "metadata": {},
   "outputs": [],
   "source": [
    "fig = plt.figure(figsize=(11, 3))\n",
    "for r in range(n_tasks):\n",
    "    # create a subplot in the (r+1) position of a 1x3 grid\n",
    "    ax = fig.add_subplot(1, 3, (r+1))\n",
    "    \n",
    "    plt.scatter(np.arange(n_features), causal_weights_per_task[r, :], marker='+', label='true features')\n",
    "    \n",
    "    plt.scatter(np.arange(n_features), multi_task_lasso_coefs[r*n_features:(r+1)*n_features], marker='x', label='predicted features')\n",
    "    \n",
    "    plt.legend()\n",
    "    \n",
    "    ax.set_title(('task %s' % r))\n",
    "fig.tight_layout(pad=1.0)"
   ]
  },
  {
   "cell_type": "markdown",
   "metadata": {},
   "source": [
    "## 1.6 Using spams's sparse group lasso"
   ]
  },
  {
   "cell_type": "code",
   "execution_count": null,
   "metadata": {},
   "outputs": [],
   "source": [
    "w = spams.fistaFlat(y_FA, X_sparse, W0=w_initialization, loss='square', regul='sparse-group-lasso-l2', groups=groups, lambda1=0.1, lambda2=0.1)"
   ]
  },
  {
   "cell_type": "code",
   "execution_count": null,
   "metadata": {},
   "outputs": [],
   "source": [
    "fig = plt.figure(figsize=(11, 3))\n",
    "for r in range(n_tasks):\n",
    "    # create a subplot in the (r+1) position of a 1x3 grid\n",
    "    ax = fig.add_subplot(1, 3, (r+1))\n",
    "    \n",
    "    plt.scatter(np.arange(n_features), causal_weights_per_task[r, :], marker='+', label='true features')\n",
    "    \n",
    "    plt.scatter(np.arange(n_features), w[r*n_features:(r+1)*n_features], marker='x', label='predicted features')\n",
    "    \n",
    "    plt.legend()\n",
    "    \n",
    "    ax.set_title(('task %s' % r))\n",
    "fig.tight_layout(pad=1.0)"
   ]
  },
  {
   "cell_type": "markdown",
   "metadata": {},
   "source": [
    "### Turn it into a scikit-learn estimator"
   ]
  },
  {
   "cell_type": "code",
   "execution_count": null,
   "metadata": {},
   "outputs": [],
   "source": [
    "class MySpamsSparseGroupLasso(base.BaseEstimator, base.RegressorMixin):\n",
    "    \"\"\"\n",
    "    This class implements a sparse group lasso that is fitted using SPAMS.\n",
    "    \"\"\"\n",
    "    def __init__(self, lambda1=1., lambda2=0., groups=None):\n",
    "        self.lambda1 = lambda1\n",
    "        self.lambda2 = lambda2 \n",
    "        self.groups = groups\n",
    "                 \n",
    "    def fit(self, X, y):     \n",
    "        # Check that X and y have correct shape\n",
    "        X, y = validation.check_X_y(X, y)\n",
    "        \n",
    "        self.X_ = X\n",
    "        self.y_ = y     \n",
    "                \n",
    "        # Fitting \n",
    "        X_sparse = sparse.csc_matrix(self.X_) #np.asfortranarray(self.X_) #\n",
    "        y_asfa = np.asfortranarray(self.y_.reshape((self.y_.shape[0], 1)))\n",
    "        w_init = np.zeros((X_sparse.shape[1], 1), order=\"F\")\n",
    "        \n",
    "        w = spams.fistaFlat(y_asfa, X_sparse, W0=w_init, loss='square', regul='sparse-group-lasso-l2', groups=self.groups, \n",
    "                            lambda1=self.lambda1, lambda2=self.lambda2)\n",
    "        \n",
    "        self.coef_ = w.reshape((w.shape[0], ))\n",
    "\n",
    "        # Return the classifier\n",
    "        return self\n",
    "    \n",
    "    def predict(self, X):\n",
    "        # Check that fit has been called\n",
    "        validation.check_is_fitted(self) \n",
    "        \n",
    "        # Input validation\n",
    "        X = validation.check_array(X)\n",
    "        \n",
    "        # Prediction\n",
    "        return np.dot(X, self.coef_)"
   ]
  },
  {
   "cell_type": "code",
   "execution_count": null,
   "metadata": {},
   "outputs": [],
   "source": [
    "my_model = MySpamsSparseGroupLasso(groups=groups, lambda1=0.1, lambda2=0.1)\n",
    "my_model.fit(X_mt, y)\n",
    "w = my_model.coef_"
   ]
  },
  {
   "cell_type": "code",
   "execution_count": null,
   "metadata": {},
   "outputs": [],
   "source": [
    "fig = plt.figure(figsize=(11, 3))\n",
    "for r in range(n_tasks):\n",
    "    # create a subplot in the (r+1) position of a 1x3 grid\n",
    "    ax = fig.add_subplot(1, 3, (r+1))\n",
    "    \n",
    "    plt.scatter(np.arange(n_features), causal_weights_per_task[r, :], marker='+', label='true features')\n",
    "    \n",
    "    plt.scatter(np.arange(n_features), w[r*n_features:(r+1)*n_features], marker='x', label='predicted features')\n",
    "    \n",
    "    plt.legend()\n",
    "    \n",
    "    ax.set_title(('task %s' % r))\n",
    "fig.tight_layout(pad=1.0)"
   ]
  },
  {
   "cell_type": "code",
   "execution_count": null,
   "metadata": {},
   "outputs": [],
   "source": [
    "param_grid = {'lambda1': np.logspace(-3, 3, num=50), 'lambda2': np.logspace(-3, 3, num=50)}"
   ]
  },
  {
   "cell_type": "code",
   "execution_count": null,
   "metadata": {},
   "outputs": [],
   "source": [
    "sglasso_gs = model_selection.GridSearchCV(MySpamsSparseGroupLasso(groups=groups), param_grid)"
   ]
  },
  {
   "cell_type": "code",
   "execution_count": null,
   "metadata": {},
   "outputs": [],
   "source": [
    "sglasso_gs.fit(X_mt, y)\n",
    "    \n",
    "# obtain coefficients\n",
    "multi_task_lasso_coefs = sglasso_gs.best_estimator_.coef_\n",
    "    \n",
    "# obtain lambda\n",
    "print(\"Best lambdas: %s\" % sglasso_gs.best_params_)"
   ]
  },
  {
   "cell_type": "code",
   "execution_count": null,
   "metadata": {},
   "outputs": [],
   "source": [
    "fig = plt.figure(figsize=(11, 3))\n",
    "for r in range(n_tasks):\n",
    "    # create a subplot in the (r+1) position of a 1x3 grid\n",
    "    ax = fig.add_subplot(1, 3, (r+1))\n",
    "    \n",
    "    plt.scatter(np.arange(n_features), causal_weights_per_task[r, :], marker='+', label='true features')\n",
    "    \n",
    "    plt.scatter(np.arange(n_features), multi_task_lasso_coefs[r*n_features:(r+1)*n_features], marker='x', label='predicted features')\n",
    "    \n",
    "    plt.legend()\n",
    "    \n",
    "    ax.set_title(('task %s' % r))\n",
    "fig.tight_layout(pad=1.0)"
   ]
  },
  {
   "cell_type": "markdown",
   "metadata": {},
   "source": [
    "# 2. Classification\n",
    "Same as above but with a logistic penalty."
   ]
  },
  {
   "cell_type": "markdown",
   "metadata": {},
   "source": [
    "## 2.1 Simulation data\n",
    "We have here a very simple simulation design (more samples than features, rather high signal-to-noise ration) to test possibilities."
   ]
  },
  {
   "cell_type": "code",
   "execution_count": 153,
   "metadata": {},
   "outputs": [],
   "source": [
    "n_tasks = 3\n",
    "n_features = 20\n",
    "n_samples_per_task = [30, 30, 40]\n",
    "n_samples = np.sum(n_samples_per_task)\n",
    "\n",
    "n_causal_features = 5 # first n_causal_features have non-zero weights\n",
    "\n",
    "epsilon = 0.05 # noise level"
   ]
  },
  {
   "cell_type": "code",
   "execution_count": 154,
   "metadata": {},
   "outputs": [],
   "source": [
    "causal_weights_per_task = np.zeros(shape=(n_tasks, n_features))\n",
    "\n",
    "for r in range(n_tasks):\n",
    "    causal_weights_per_task[r, :n_causal_features] = np.random.random(size=(n_causal_features,))"
   ]
  },
  {
   "cell_type": "code",
   "execution_count": 155,
   "metadata": {},
   "outputs": [
    {
     "data": {
      "text/plain": [
       "<matplotlib.legend.Legend at 0x7fe27d6768e0>"
      ]
     },
     "execution_count": 155,
     "metadata": {},
     "output_type": "execute_result"
    },
    {
     "data": {
      "image/png": "[encoded data removed]",
      "text/plain": [
       "<Figure size 432x288 with 1 Axes>"
      ]
     },
     "metadata": {
      "needs_background": "light"
     },
     "output_type": "display_data"
    }
   ],
   "source": [
    "for r in range(n_tasks):\n",
    "    plt.scatter(np.arange(n_features), causal_weights_per_task[r, :], label=('task %s' % r))\n",
    "plt.legend()"
   ]
  },
  {
   "cell_type": "code",
   "execution_count": 156,
   "metadata": {},
   "outputs": [],
   "source": [
    "X = np.zeros((n_samples, n_features))\n",
    "y = np.zeros((n_samples, ))\n",
    "start_idx = 0\n",
    "end_idx = 0 \n",
    "for r in range(n_tasks):\n",
    "    end_idx += n_samples_per_task[r]\n",
    "    X[start_idx:end_idx, :] = np.random.random(size=(n_samples_per_task[r], n_features))    \n",
    "    y_tmp = np.dot(X[start_idx:end_idx, :], causal_weights_per_task[r]) + \\\n",
    "        epsilon * np.random.random(size=(n_samples_per_task[r], ))\n",
    "    y[start_idx:end_idx] = np.where(y_tmp > np.mean(y_tmp), 1, 0)\n",
    "    start_idx += n_samples_per_task[r]"
   ]
  },
  {
   "cell_type": "code",
   "execution_count": 157,
   "metadata": {},
   "outputs": [
    {
     "data": {
      "image/png": "[encoded data removed]",
      "text/plain": [
       "<Figure size 792x216 with 3 Axes>"
      ]
     },
     "metadata": {
      "needs_background": "light"
     },
     "output_type": "display_data"
    }
   ],
   "source": [
    "fig = plt.figure(figsize=(11, 3))\n",
    "start_idx = 0\n",
    "end_idx = 0 \n",
    "for r in range(n_tasks):\n",
    "    ax = plt.subplot(1, 3, (r+1))\n",
    "    end_idx += n_samples_per_task[r]\n",
    "    ax.scatter((np.dot(X[start_idx:end_idx, :], causal_weights_per_task[r])), y[start_idx:end_idx], label=('task %d' % r))\n",
    "    start_idx += n_samples_per_task[r]\n",
    "    t = plt.title(\"Task %d\" % r)\n",
    "    t = plt.xlabel(r\"Without noise ($\\langle w, x\\rangle$)\")\n",
    "    t = plt.ylabel(r\"Label\")"
   ]
  },
  {
   "cell_type": "markdown",
   "metadata": {},
   "source": [
    "## 2.2 Separate single-task l1-regularized logistic regressions on each task with sklearn\n",
    "Let's consider our 3 tasks separately and run an l1-regularized logistic regression"
   ]
  },
  {
   "cell_type": "code",
   "execution_count": 158,
   "metadata": {},
   "outputs": [],
   "source": [
    "from sklearn import linear_model"
   ]
  },
  {
   "cell_type": "code",
   "execution_count": 159,
   "metadata": {},
   "outputs": [],
   "source": [
    "single_task_lasso_coefs = np.zeros(shape=(n_tasks, n_features))"
   ]
  },
  {
   "cell_type": "code",
   "execution_count": 160,
   "metadata": {},
   "outputs": [],
   "source": [
    "from sklearn import model_selection"
   ]
  },
  {
   "cell_type": "code",
   "execution_count": 161,
   "metadata": {},
   "outputs": [],
   "source": [
    "param_grid = {'C': np.logspace(-3, 2, num=100)}"
   ]
  },
  {
   "cell_type": "code",
   "execution_count": 162,
   "metadata": {},
   "outputs": [],
   "source": [
    "lasso_gs = model_selection.GridSearchCV(linear_model.LogisticRegression(penalty='l1', solver='liblinear'), param_grid, scoring='f1')"
   ]
  },
  {
   "cell_type": "code",
   "execution_count": 163,
   "metadata": {},
   "outputs": [],
   "source": [
    "single_task_lasso_coefs = np.zeros(shape=(n_tasks, n_features))"
   ]
  },
  {
   "cell_type": "code",
   "execution_count": 164,
   "metadata": {},
   "outputs": [
    {
     "name": "stdout",
     "output_type": "stream",
     "text": [
      "Best lambda for task 0: {'C': 9.770099572992246}\n",
      "Best lambda for task 1: {'C': 35.11191734215127}\n",
      "Best lambda for task 2: {'C': 5.462277217684343}\n"
     ]
    }
   ],
   "source": [
    "start_idx = 0\n",
    "end_idx = 0 \n",
    "for r in range(n_tasks):\n",
    "    end_idx += n_samples_per_task[r]\n",
    "    # fit lasso\n",
    "    lasso_gs.fit(X[start_idx:end_idx, :], y[start_idx:end_idx])\n",
    "    \n",
    "    # obtain coefficients\n",
    "    single_task_lasso_coefs[r, :] = lasso_gs.best_estimator_.coef_\n",
    "    \n",
    "    # obtain lambda\n",
    "    print(\"Best lambda for task %d: %s\" % (r, lasso_gs.best_params_))\n",
    "    \n",
    "    start_idx += n_samples_per_task[r]"
   ]
  },
  {
   "cell_type": "code",
   "execution_count": 165,
   "metadata": {},
   "outputs": [
    {
     "data": {
      "image/png": "[encoded data removed]",
      "text/plain": [
       "<Figure size 792x216 with 3 Axes>"
      ]
     },
     "metadata": {
      "needs_background": "light"
     },
     "output_type": "display_data"
    }
   ],
   "source": [
    "fig = plt.figure(figsize=(11, 3))\n",
    "for r in range(n_tasks):\n",
    "    # create a subplot in the (r+1) position of a 1x3 grid\n",
    "    ax = fig.add_subplot(1, 3, (r+1))\n",
    "    \n",
    "    plt.scatter(np.arange(n_features), causal_weights_per_task[r, :], marker='+', label='true weights')\n",
    "    \n",
    "    plt.scatter(np.arange(n_features), single_task_lasso_coefs[r, :], marker='x', label='predicted weights')\n",
    "    \n",
    "    plt.legend()\n",
    "    \n",
    "    ax.set_title(('task %s' % r))\n",
    "fig.tight_layout(pad=1.0)"
   ]
  },
  {
   "cell_type": "markdown",
   "metadata": {},
   "source": [
    "__Remark:__ Note this does not work so well, the selected model doesn't have enough regularization..."
   ]
  },
  {
   "cell_type": "markdown",
   "metadata": {},
   "source": [
    "## 2.3 Turning the problem into a sparse group lasso problem\n",
    "Now we're ready to move to solving the 3 tasks together in a mulittask formulation."
   ]
  },
  {
   "cell_type": "markdown",
   "metadata": {},
   "source": [
    "### New design matrix"
   ]
  },
  {
   "cell_type": "code",
   "execution_count": 166,
   "metadata": {},
   "outputs": [],
   "source": [
    "X_mt = np.zeros((n_samples, n_features*n_tasks))\n",
    "start_idx = 0\n",
    "end_idx = 0 \n",
    "for r in range(n_tasks):\n",
    "    end_idx += n_samples_per_task[r]\n",
    "    \n",
    "    X_mt[start_idx:end_idx, r*n_features:(r+1)*n_features] = X[start_idx:end_idx, :]\n",
    "    \n",
    "    start_idx += n_samples_per_task[r]"
   ]
  },
  {
   "cell_type": "markdown",
   "metadata": {},
   "source": [
    "Let's look at this new design matrix and check it's block diagonal, with each data set forming one block."
   ]
  },
  {
   "cell_type": "code",
   "execution_count": 167,
   "metadata": {},
   "outputs": [
    {
     "data": {
      "text/plain": [
       "<matplotlib.colorbar.Colorbar at 0x7fe27c32e3a0>"
      ]
     },
     "execution_count": 167,
     "metadata": {},
     "output_type": "execute_result"
    },
    {
     "data": {
      "image/png": "[encoded data removed]",
      "text/plain": [
       "<Figure size 432x288 with 2 Axes>"
      ]
     },
     "metadata": {
      "needs_background": "light"
     },
     "output_type": "display_data"
    }
   ],
   "source": [
    "plt.imshow(X_mt, cmap='viridis', aspect='equal')\n",
    "plt.colorbar()"
   ]
  },
  {
   "cell_type": "markdown",
   "metadata": {},
   "source": [
    "### Group membership vector"
   ]
  },
  {
   "cell_type": "code",
   "execution_count": 168,
   "metadata": {},
   "outputs": [],
   "source": [
    "groups = np.array([(1+x) for r in range(n_tasks) for x in np.arange(n_features)], dtype=np.int32)"
   ]
  },
  {
   "cell_type": "markdown",
   "metadata": {},
   "source": [
    "## 2.4 Using spams"
   ]
  },
  {
   "cell_type": "markdown",
   "metadata": {},
   "source": [
    "### Testing spams directly "
   ]
  },
  {
   "cell_type": "code",
   "execution_count": 169,
   "metadata": {},
   "outputs": [],
   "source": [
    "import spams"
   ]
  },
  {
   "cell_type": "code",
   "execution_count": 170,
   "metadata": {},
   "outputs": [],
   "source": [
    "from scipy import sparse"
   ]
  },
  {
   "cell_type": "code",
   "execution_count": 171,
   "metadata": {},
   "outputs": [],
   "source": [
    "X_sparse = sparse.csc_matrix(X_mt)"
   ]
  },
  {
   "cell_type": "code",
   "execution_count": 172,
   "metadata": {},
   "outputs": [],
   "source": [
    "y_FA = np.asfortranarray(y.reshape(y.shape[0], 1))"
   ]
  },
  {
   "cell_type": "code",
   "execution_count": 173,
   "metadata": {},
   "outputs": [],
   "source": [
    "w_initialization = np.zeros((X_sparse.shape[1], y_FA.shape[1]), order=\"F\")"
   ]
  },
  {
   "cell_type": "code",
   "execution_count": 174,
   "metadata": {},
   "outputs": [
    {
     "name": "stdout",
     "output_type": "stream",
     "text": [
      "(100, 60) (100, 1) (60, 1) (60,)\n"
     ]
    }
   ],
   "source": [
    "print(X_sparse.shape, y_FA.shape, w_initialization.shape, groups.shape)"
   ]
  },
  {
   "cell_type": "code",
   "execution_count": 175,
   "metadata": {},
   "outputs": [],
   "source": [
    "w = spams.fistaFlat(y_FA, X_sparse, W0=w_initialization, loss='logistic', regul='sparse-group-lasso-l2', \n",
    "                    groups=groups, lambda1=.005, lambda2=0.001)"
   ]
  },
  {
   "cell_type": "code",
   "execution_count": 176,
   "metadata": {},
   "outputs": [
    {
     "data": {
      "image/png": "[encoded data removed]",
      "text/plain": [
       "<Figure size 792x216 with 3 Axes>"
      ]
     },
     "metadata": {
      "needs_background": "light"
     },
     "output_type": "display_data"
    }
   ],
   "source": [
    "fig = plt.figure(figsize=(11, 3))\n",
    "for r in range(n_tasks):\n",
    "    # create a subplot in the (r+1) position of a 1x3 grid\n",
    "    ax = fig.add_subplot(1, 3, (r+1))\n",
    "    \n",
    "    plt.scatter(np.arange(n_features), causal_weights_per_task[r, :], marker='+', label='true features')\n",
    "    \n",
    "    plt.scatter(np.arange(n_features), w[r*n_features:(r+1)*n_features], marker='x', label='predicted features')\n",
    "    \n",
    "    plt.legend()\n",
    "    \n",
    "    ax.set_title(('task %s' % r))\n",
    "fig.tight_layout(pad=1.0)"
   ]
  },
  {
   "cell_type": "markdown",
   "metadata": {},
   "source": [
    "### Turn it into a scikit-learn estimator\n",
    "In order to use `sklearn.model_selection` we need to turn this into an estimator. \n",
    "Help from https://scikit-learn.org/stable/developers/develop.html and https://sklearn-template.readthedocs.io/en/latest/user_guide.html"
   ]
  },
  {
   "cell_type": "code",
   "execution_count": 177,
   "metadata": {},
   "outputs": [],
   "source": [
    "from sklearn import base\n",
    "from sklearn.utils import validation, multiclass"
   ]
  },
  {
   "cell_type": "code",
   "execution_count": 178,
   "metadata": {},
   "outputs": [],
   "source": [
    "class MySpamsSparseGroupL1LogReg(base.BaseEstimator, base.ClassifierMixin):\n",
    "    \"\"\"\n",
    "    This class implements a sparse group logistic regression that is fitted using SPAMS.\n",
    "    \"\"\"\n",
    "    def __init__(self, lambda1=1., lambda2=0., groups=None):\n",
    "        self.lambda1 = lambda1\n",
    "        self.lambda2 = lambda2 \n",
    "        self.groups = groups\n",
    "                 \n",
    "    def fit(self, X, y):     \n",
    "        # Check that X and y have correct shape\n",
    "        X, y = validation.check_X_y(X, y)\n",
    "        \n",
    "        # Store the classes seen during fit\n",
    "        self.classes_ = multiclass.unique_labels(y)\n",
    "        \n",
    "        self.X_ = X\n",
    "        self.y_ = y     \n",
    "                \n",
    "        # Fitting \n",
    "        X_sparse = sparse.csc_matrix(self.X_) #np.asfortranarray(self.X_) #\n",
    "        y_asfa = np.asfortranarray(self.y_.reshape((self.y_.shape[0], 1)))\n",
    "        w_init = np.zeros((X_sparse.shape[1], 1), order=\"F\")\n",
    "        \n",
    "        w = spams.fistaFlat(y_asfa, X_sparse, W0=w_init, loss='square', regul='sparse-group-lasso-l2', groups=self.groups, \n",
    "                            lambda1=self.lambda1, lambda2=self.lambda2)\n",
    "        \n",
    "        self.coef_ = w.reshape((w.shape[0], ))\n",
    "\n",
    "        # Return the classifier\n",
    "        return self\n",
    "    \n",
    "    def predict_proba(self, X):\n",
    "        # Check that fit has been called\n",
    "        validation.check_is_fitted(self) \n",
    "        \n",
    "        # Input validation\n",
    "        X = validation.check_array(X)\n",
    "        \n",
    "        # Prediction\n",
    "        return (1. / (1 + np.exp(-np.dot(X, self.coef_))))\n",
    "    \n",
    "    def predict(self, X):\n",
    "        return np.where(self.predict_proba(X) > 0.5, 1, 0)"
   ]
  },
  {
   "cell_type": "code",
   "execution_count": 179,
   "metadata": {},
   "outputs": [],
   "source": [
    "my_model = MySpamsSparseGroupL1LogReg(groups=groups, lambda1=0.001, lambda2=0.01)\n",
    "my_model.fit(X_mt, y)\n",
    "w = my_model.coef_"
   ]
  },
  {
   "cell_type": "code",
   "execution_count": 180,
   "metadata": {},
   "outputs": [
    {
     "data": {
      "image/png": "[encoded data removed]",
      "text/plain": [
       "<Figure size 792x216 with 3 Axes>"
      ]
     },
     "metadata": {
      "needs_background": "light"
     },
     "output_type": "display_data"
    }
   ],
   "source": [
    "fig = plt.figure(figsize=(11, 3))\n",
    "for r in range(n_tasks):\n",
    "    # create a subplot in the (r+1) position of a 1x3 grid\n",
    "    ax = fig.add_subplot(1, 3, (r+1))\n",
    "    \n",
    "    plt.scatter(np.arange(n_features), causal_weights_per_task[r, :], marker='+', label='true features')\n",
    "    \n",
    "    plt.scatter(np.arange(n_features), w[r*n_features:(r+1)*n_features], marker='x', label='predicted features')\n",
    "    \n",
    "    plt.legend()\n",
    "    \n",
    "    ax.set_title(('task %s' % r))\n",
    "fig.tight_layout(pad=1.0)"
   ]
  },
  {
   "cell_type": "code",
   "execution_count": 181,
   "metadata": {},
   "outputs": [],
   "source": [
    "param_grid = {'lambda1': np.logspace(-4, 1, num=30), 'lambda2': np.logspace(-4, 1, num=30)}"
   ]
  },
  {
   "cell_type": "code",
   "execution_count": 182,
   "metadata": {},
   "outputs": [],
   "source": [
    "sglasso_gs = model_selection.GridSearchCV(MySpamsSparseGroupL1LogReg(groups=groups), param_grid, scoring='f1')"
   ]
  },
  {
   "cell_type": "code",
   "execution_count": 183,
   "metadata": {},
   "outputs": [
    {
     "name": "stdout",
     "output_type": "stream",
     "text": [
      "Best lambdas: {'lambda1': 0.0001, 'lambda2': 0.02592943797404667}\n"
     ]
    }
   ],
   "source": [
    "sglasso_gs.fit(X_mt, y)\n",
    "    \n",
    "# obtain coefficients\n",
    "multi_task_lasso_coefs = sglasso_gs.best_estimator_.coef_\n",
    "    \n",
    "# obtain lambda\n",
    "print(\"Best lambdas: %s\" % sglasso_gs.best_params_)"
   ]
  },
  {
   "cell_type": "code",
   "execution_count": 152,
   "metadata": {},
   "outputs": [
    {
     "data": {
      "image/png": "[encoded data removed]",
      "text/plain": [
       "<Figure size 792x216 with 3 Axes>"
      ]
     },
     "metadata": {
      "needs_background": "light"
     },
     "output_type": "display_data"
    }
   ],
   "source": [
    "fig = plt.figure(figsize=(11, 3))\n",
    "for r in range(n_tasks):\n",
    "    # create a subplot in the (r+1) position of a 1x3 grid\n",
    "    ax = fig.add_subplot(1, 3, (r+1))\n",
    "    \n",
    "    plt.scatter(np.arange(n_features), causal_weights_per_task[r, :], marker='+', label='true features')\n",
    "    \n",
    "    plt.scatter(np.arange(n_features), multi_task_lasso_coefs[r*n_features:(r+1)*n_features], marker='x', label='predicted features')\n",
    "    \n",
    "    plt.legend()\n",
    "    \n",
    "    ax.set_title(('task %s' % r))\n",
    "fig.tight_layout(pad=1.0)"
   ]
  },
  {
   "cell_type": "code",
   "execution_count": null,
   "metadata": {},
   "outputs": [],
   "source": []
  },
  {
   "cell_type": "code",
   "execution_count": null,
   "metadata": {},
   "outputs": [],
   "source": []
  }
 ],
 "metadata": {
  "kernelspec": {
   "display_name": "Python 3",
   "language": "python",
   "name": "python3"
  },
  "language_info": {
   "codemirror_mode": {
    "name": "ipython",
    "version": 3
   },
   "file_extension": ".py",
   "mimetype": "text/x-python",
   "name": "python",
   "nbconvert_exporter": "python",
   "pygments_lexer": "ipython3",
   "version": "3.8.5"
  }
 },
 "nbformat": 4,
 "nbformat_minor": 4
}
